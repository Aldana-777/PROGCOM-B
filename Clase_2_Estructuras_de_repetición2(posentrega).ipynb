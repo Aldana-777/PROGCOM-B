{
  "nbformat": 4,
  "nbformat_minor": 0,
  "metadata": {
    "colab": {
      "provenance": [],
      "authorship_tag": "ABX9TyMPAVASaXB6kUhfokUk6o/o",
      "include_colab_link": true
    },
    "kernelspec": {
      "name": "python3",
      "display_name": "Python 3"
    },
    "language_info": {
      "name": "python"
    }
  },
  "cells": [
    {
      "cell_type": "markdown",
      "metadata": {
        "id": "view-in-github",
        "colab_type": "text"
      },
      "source": [
        "<a href=\"https://colab.research.google.com/github/Aldana-777/PROGCOM-B/blob/main/Clase_2_Estructuras_de_repetici%C3%B3n2(posentrega).ipynb\" target=\"_parent\"><img src=\"https://colab.research.google.com/assets/colab-badge.svg\" alt=\"Open In Colab\"/></a>"
      ]
    },
    {
      "cell_type": "markdown",
      "source": [],
      "metadata": {
        "id": "cqa5T9uLv5Mx"
      }
    },
    {
      "cell_type": "markdown",
      "source": [
        "#Estructuras de repetición\n",
        "se emplean cuando se desea repetir una parte del código, dada una condición"
      ],
      "metadata": {
        "id": "WJEvlZVnlbrR"
      }
    },
    {
      "cell_type": "markdown",
      "source": [
        "##Listas\n",
        "*Son texto en negrita un conjunto de objetos, **indexado** (Todos los elementos listados están numerados) , separado por comas, y encerrado entre [].\n",
        "*Todos los elementos dentro de una lista, se empiezan a contar desde 0.\n",
        "###Creación de listas\n",
        "* Forma general: lista = []\n",
        "* Forma manual: animales = [\"gato\", \"perro\", \"zorro\", \"oso\"]\n",
        "* por conversión: número = list(range(10))"
      ],
      "metadata": {
        "id": "U4kkrT2iv6_4"
      }
    },
    {
      "cell_type": "code",
      "source": [
        "lista = []"
      ],
      "metadata": {
        "id": "bIAi7hoGxObg"
      },
      "execution_count": null,
      "outputs": []
    },
    {
      "cell_type": "code",
      "source": [
        "zorro = [1,2,3,4]\n",
        "animales =  [\"gato\", \"perro\", zorro, \"oso\"]\n",
        "animales"
      ],
      "metadata": {
        "colab": {
          "base_uri": "https://localhost:8080/"
        },
        "id": "fuzaEFqAxxTn",
        "outputId": "c5149854-11b6-4d62-bb2d-318d1fb2b62c"
      },
      "execution_count": null,
      "outputs": [
        {
          "output_type": "execute_result",
          "data": {
            "text/plain": [
              "['gato', 'perro', [1, 2, 3, 4], 'oso']"
            ]
          },
          "metadata": {},
          "execution_count": 10
        }
      ]
    },
    {
      "cell_type": "code",
      "source": [
        "type(zorro)"
      ],
      "metadata": {
        "colab": {
          "base_uri": "https://localhost:8080/"
        },
        "id": "Cp2xdXHeyBy3",
        "outputId": "38043919-3f52-4118-c980-23cb3aa9af00"
      },
      "execution_count": null,
      "outputs": [
        {
          "output_type": "execute_result",
          "data": {
            "text/plain": [
              "list"
            ]
          },
          "metadata": {},
          "execution_count": 14
        }
      ]
    },
    {
      "cell_type": "code",
      "source": [
        "número = list(range(10))\n",
        "número"
      ],
      "metadata": {
        "colab": {
          "base_uri": "https://localhost:8080/"
        },
        "id": "Xif3XYPiy5h_",
        "outputId": "7a58d6ab-e61d-474c-cec9-a5c9ca29ce74"
      },
      "execution_count": null,
      "outputs": [
        {
          "output_type": "execute_result",
          "data": {
            "text/plain": [
              "[0, 1, 2, 3, 4, 5, 6, 7, 8, 9]"
            ]
          },
          "metadata": {},
          "execution_count": 15
        }
      ]
    },
    {
      "cell_type": "code",
      "source": [
        "type(range(10))"
      ],
      "metadata": {
        "colab": {
          "base_uri": "https://localhost:8080/"
        },
        "id": "NISCcgtFzLLu",
        "outputId": "453907f9-7132-4998-eddf-5e7c3df97f90"
      },
      "execution_count": null,
      "outputs": [
        {
          "output_type": "execute_result",
          "data": {
            "text/plain": [
              "range"
            ]
          },
          "metadata": {},
          "execution_count": 13
        }
      ]
    },
    {
      "cell_type": "markdown",
      "source": [
        "##Estructura para - (for)\n",
        "\n",
        "se usa cuando:\n",
        "* se sabe **cuantas veces** se repite una acción.\n",
        "* Está compuesta por un contador y una condición.\n",
        "* **contador**: Identifica cuantas veces se va a repetir el bucle y con qué frecuencia.\n",
        "* **condición**: Evalua cuando se detiene.\n",
        "\n",
        "Por definición:\n",
        "\n",
        "\n",
        "\n",
        "```\n",
        "for variable in range (vi, vf+1, paso): aqui se repite parte del código.\n",
        "```\n",
        "Donde\n",
        "1. vi: condición inicial. Donde arranco a contar.\n",
        "2. vf+1: condición final. Donde dejo de contar +1\n",
        "3. paso: frecuencia de conteo\n",
        "\n",
        "for para recorrido de listas flor = [\"amapola\", \"rosa\", \"tulipán\", \"orquidea\"]\n",
        "\n",
        "* El para va a iterar tantas veces como el elemento tenga la lista\n",
        "* La variable dentro del para, toma como valor, cada elemento de la lista\n",
        "\n",
        "```\n",
        "for variable in lista:\n",
        "variable\n",
        "```\n",
        "\n",
        "\n"
      ],
      "metadata": {
        "id": "ktFBoFwtlnSo"
      }
    },
    {
      "cell_type": "code",
      "source": [
        "#Creando una lista de nombre flor\n",
        "flor = [\"amapola\", \"rosa\", \"tulipán\", \"orquidea\"]\n",
        "for i in flor:\n",
        "  print(i)"
      ],
      "metadata": {
        "colab": {
          "base_uri": "https://localhost:8080/"
        },
        "id": "nZ9dlcGO0pBW",
        "outputId": "05024796-aff0-46bc-8b4f-2c2f926c5ff2"
      },
      "execution_count": null,
      "outputs": [
        {
          "output_type": "stream",
          "name": "stdout",
          "text": [
            "amapola\n",
            "rosa\n",
            "tulipán\n",
            "orquidea\n"
          ]
        }
      ]
    },
    {
      "cell_type": "code",
      "source": [
        "flor = [\"amapola\", \"rosa\", \"tulipán\", \"orquidea\"]\n",
        "flores = 7\n",
        "for flores in flor:\n",
        "  print(flores)\n",
        "  if flores == \"tulipán\" :\n",
        "    break"
      ],
      "metadata": {
        "colab": {
          "base_uri": "https://localhost:8080/"
        },
        "id": "yZVR2gIP17ME",
        "outputId": "cd533050-b41d-4a60-b166-3526210e2fe9"
      },
      "execution_count": null,
      "outputs": [
        {
          "output_type": "stream",
          "name": "stdout",
          "text": [
            "amapola\n",
            "rosa\n",
            "tulipán\n"
          ]
        }
      ]
    },
    {
      "cell_type": "markdown",
      "source": [
        "##Estructura while\n",
        "* Se emplea cuando **NO SE SABE** cuantas veces se debe repetir una acción, pero si se conoce su condición de parada (CP).\n",
        "* cOndición inicial: Donde arranca el ciclo\n",
        "* Condición final (parada): Que indica donde se detiene el ciclo\n",
        "* Modificador de condición inicial **importante**\n",
        "\n",
        "Estructura general del mientras (WHILE)\n",
        "\n",
        "\n",
        "\n",
        "```\n",
        "Condición inicial\n",
        "while (donidción==condición final):\n",
        "  modificador de condición inicial\n",
        "```\n",
        "Modificadores de condición inicial\n",
        "* Bandera: Son booleanos (se vuelven V o F)\n",
        "* Son preguntas (\"Desea continuar Si o No\")\n",
        "* Son contadores o acumuladores\n"
      ],
      "metadata": {
        "id": "hyV5CAPF2XSk"
      }
    },
    {
      "cell_type": "markdown",
      "source": [
        "4"
      ],
      "metadata": {
        "id": "K6dYzSuZkCAc"
      }
    },
    {
      "cell_type": "code",
      "source": [
        "numero= int(input(\"digite un numero:\" ))\n",
        "for i in range(1,11):\n",
        "    resultado= numero * i\n",
        "    print(f\"{numero}*{i}={resultado}\")\n"
      ],
      "metadata": {
        "id": "At4ism-KkAT5"
      },
      "execution_count": null,
      "outputs": []
    },
    {
      "cell_type": "markdown",
      "source": [
        "4.2"
      ],
      "metadata": {
        "id": "-Etmfu7YkEo4"
      }
    },
    {
      "cell_type": "code",
      "source": [
        "numero = int(input(\"Digite un número: \"))\n",
        "lista = [numero * i for i in range(1, 11)]\n",
        "for i, resultado in enumerate(lista, 1):\n",
        "    print(f\"{numero} × {i} = {resultado}\")"
      ],
      "metadata": {
        "id": "MBY4PbuqkGGY"
      },
      "execution_count": null,
      "outputs": []
    },
    {
      "cell_type": "markdown",
      "source": [
        "5"
      ],
      "metadata": {
        "id": "qG7p79aPkMXY"
      }
    },
    {
      "cell_type": "code",
      "source": [
        "numerou= int(input(\"digite un numero:\" ))\n",
        "numerod= int(input(\"digite un numero:\" ))\n",
        "numerot= int(input(\"digite un numero:\" ))\n",
        "numerocu= int(input(\"digite un numero:\" ))\n",
        "numeroci= int(input(\"digite un numero:\" ))\n",
        "for i in range(1,6):\n",
        "    resultado= numerou+numerod+numerot+numerocu+numeroci\n",
        "    promedio= resultado/5\n",
        "    print(promedio)"
      ],
      "metadata": {
        "id": "jMszneofkNHW"
      },
      "execution_count": null,
      "outputs": []
    }
  ]
}