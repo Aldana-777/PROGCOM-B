{
  "nbformat": 4,
  "nbformat_minor": 0,
  "metadata": {
    "colab": {
      "provenance": [],
      "authorship_tag": "ABX9TyNjUdIUii1XXjhZYUAxnXDw",
      "include_colab_link": true
    },
    "kernelspec": {
      "name": "python3",
      "display_name": "Python 3"
    },
    "language_info": {
      "name": "python"
    }
  },
  "cells": [
    {
      "cell_type": "markdown",
      "metadata": {
        "id": "view-in-github",
        "colab_type": "text"
      },
      "source": [
        "<a href=\"https://colab.research.google.com/github/Aldana-777/PROGCOM-B/blob/main/Baile_Tik_Tok1.ipynb\" target=\"_parent\"><img src=\"https://colab.research.google.com/assets/colab-badge.svg\" alt=\"Open In Colab\"/></a>"
      ]
    },
    {
      "cell_type": "markdown",
      "source": [
        "https://youtu.be/7DYGraudWnQ?si=946v9bHyBcHe_MXt"
      ],
      "metadata": {
        "id": "1TsQ0pLFcx-G"
      }
    },
    {
      "cell_type": "code",
      "source": [
        "def pose_inicial (a,b):\n",
        "  for i in range (a):\n",
        "    print (f\"estamos todos tiesos\")"
      ],
      "metadata": {
        "id": "V9HrwskAc0BV"
      },
      "execution_count": 45,
      "outputs": []
    },
    {
      "cell_type": "code",
      "source": [
        "pose_inicial(1,1)"
      ],
      "metadata": {
        "colab": {
          "base_uri": "https://localhost:8080/"
        },
        "id": "XNcU3ed4ehTy",
        "outputId": "7f0b4c04-cc7b-4913-e4e3-68dd7e39f3bf"
      },
      "execution_count": 46,
      "outputs": [
        {
          "output_type": "stream",
          "name": "stdout",
          "text": [
            "estamos todos tiesos\n"
          ]
        }
      ]
    },
    {
      "cell_type": "code",
      "source": [
        "def movimiento_de_piernas (a,b):\n",
        "  for i in range (a):\n",
        "    print ((f\"todos hacemos paso cruzado con la pierna izquierda alfrente \"))\n",
        "    for i in range (a):\n",
        "        print ((f\"todos alzamos la pierna derecha y alzamos brazos\"))\n",
        "        for i in range (a):\n",
        "          print ((f\"todos hacemos paso cruzado con la pierna izquierda atras bajando brazos\"))\n",
        "        for i in range (a):\n",
        "          print ((f\"todos hacemos paso cruzado alfrente alando brazos\"))"
      ],
      "metadata": {
        "id": "Ej6-Aaw6kELv"
      },
      "execution_count": 57,
      "outputs": []
    },
    {
      "cell_type": "code",
      "source": [
        "movimiento_de_piernas (1,1)"
      ],
      "metadata": {
        "colab": {
          "base_uri": "https://localhost:8080/"
        },
        "id": "X7Lz_OAClhRt",
        "outputId": "abed3483-4d47-4306-88da-4ce390c4ead3"
      },
      "execution_count": 58,
      "outputs": [
        {
          "output_type": "stream",
          "name": "stdout",
          "text": [
            "todos hacemos paso cruzado con la pierna izquierda alfrente \n",
            "todos alzamos la pierna derecha y alzamos brazos\n",
            "todos hacemos paso cruzado con la pierna izquierda atras bajando brazos\n",
            "todos hacemos paso cruzado alfrente alando brazos\n"
          ]
        }
      ]
    },
    {
      "cell_type": "code",
      "source": [
        "def patada_corta (a,b):\n",
        "  for i in range (a):\n",
        "    print ((f\"todos hacemos una patada hacia adelante alzando la pierna izquierda, con el brazo derecho doblado y extendiendo el brazo derecho hacia la izquierda\"))"
      ],
      "metadata": {
        "id": "srUpKp7nmm6b"
      },
      "execution_count": 59,
      "outputs": []
    },
    {
      "cell_type": "code",
      "source": [
        "patada_corta (1,1)"
      ],
      "metadata": {
        "colab": {
          "base_uri": "https://localhost:8080/"
        },
        "id": "_E411XQXnPrh",
        "outputId": "613d604a-935c-42d8-debb-36a63651ca10"
      },
      "execution_count": 60,
      "outputs": [
        {
          "output_type": "stream",
          "name": "stdout",
          "text": [
            "todos hacemos una patada hacia adelante alzando la pierna izquierda, con el brazo derecho doblado y extendiendo el brazo derecho hacia la izquierda\n"
          ]
        }
      ]
    },
    {
      "cell_type": "code",
      "source": [
        "def pasito1 (a,b) :\n",
        "  for i in range (a):\n",
        "    print(f\"dos damos {i} pasitos hacia la {\"derecha\"} \")"
      ],
      "metadata": {
        "id": "LbVf4Drnf0Q4"
      },
      "execution_count": 32,
      "outputs": []
    },
    {
      "cell_type": "code",
      "source": [
        "pasito1 (7,\"derecha\")"
      ],
      "metadata": {
        "colab": {
          "base_uri": "https://localhost:8080/"
        },
        "id": "cn1o1_bCg8Z2",
        "outputId": "9622e3fe-cf8b-4981-9d92-cb290e2ca7e2"
      },
      "execution_count": 33,
      "outputs": [
        {
          "output_type": "stream",
          "name": "stdout",
          "text": [
            "dos damos 0 pasitos hacia la derecha \n",
            "dos damos 1 pasitos hacia la derecha \n",
            "dos damos 2 pasitos hacia la derecha \n",
            "dos damos 3 pasitos hacia la derecha \n",
            "dos damos 4 pasitos hacia la derecha \n",
            "dos damos 5 pasitos hacia la derecha \n",
            "dos damos 6 pasitos hacia la derecha \n"
          ]
        }
      ]
    },
    {
      "cell_type": "code",
      "source": [
        "def pasito2 (a,b) :\n",
        "  for i in range (a):\n",
        "    print(f\"dos damos {i} pasitos hacia la {\"izquierda\"} \")"
      ],
      "metadata": {
        "id": "kzXvRt_fiMgL"
      },
      "execution_count": 37,
      "outputs": []
    },
    {
      "cell_type": "code",
      "source": [
        "pasito2 (7,\"izquierda\")"
      ],
      "metadata": {
        "colab": {
          "base_uri": "https://localhost:8080/"
        },
        "id": "OifrsAzEiY26",
        "outputId": "ee2ea1af-7105-4afc-e8da-a7db759b581d"
      },
      "execution_count": 38,
      "outputs": [
        {
          "output_type": "stream",
          "name": "stdout",
          "text": [
            "dos damos 0 pasitos hacia la izquierda \n",
            "dos damos 1 pasitos hacia la izquierda \n",
            "dos damos 2 pasitos hacia la izquierda \n",
            "dos damos 3 pasitos hacia la izquierda \n",
            "dos damos 4 pasitos hacia la izquierda \n",
            "dos damos 5 pasitos hacia la izquierda \n",
            "dos damos 6 pasitos hacia la izquierda \n"
          ]
        }
      ]
    },
    {
      "cell_type": "code",
      "source": [],
      "metadata": {
        "id": "2Q1JmJ0ci62K"
      },
      "execution_count": null,
      "outputs": []
    }
  ]
}