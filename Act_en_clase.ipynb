{
  "nbformat": 4,
  "nbformat_minor": 0,
  "metadata": {
    "colab": {
      "provenance": [],
      "authorship_tag": "ABX9TyNPDf+rr50Umin8YXgwSM0H",
      "include_colab_link": true
    },
    "kernelspec": {
      "name": "python3",
      "display_name": "Python 3"
    },
    "language_info": {
      "name": "python"
    }
  },
  "cells": [
    {
      "cell_type": "markdown",
      "metadata": {
        "id": "view-in-github",
        "colab_type": "text"
      },
      "source": [
        "<a href=\"https://colab.research.google.com/github/Aldana-777/PROGCOM-B/blob/main/Act_en_clase.ipynb\" target=\"_parent\"><img src=\"https://colab.research.google.com/assets/colab-badge.svg\" alt=\"Open In Colab\"/></a>"
      ]
    },
    {
      "cell_type": "markdown",
      "source": [
        "#Estructuras de selección\n",
        "Se emplean cuando quiero evaluar una condición. El resultado de la evaluación de esta condición siempre se da en Booleano (V o F).\n",
        "\n",
        "##Estructura if else\n",
        "\n",
        "\n",
        "\n",
        "\n",
        "\n",
        "```\n",
        "if (condición) :\n",
        "  entro aquí, si la condición dia V\n",
        "else :\n",
        "  entro aquí, li la condición F\n",
        "```\n",
        "\n"
      ],
      "metadata": {
        "id": "VFtSbkKINZ_k"
      }
    },
    {
      "cell_type": "markdown",
      "source": [
        "7 año biciesto"
      ],
      "metadata": {
        "id": "sQCRo_bIOkry"
      }
    },
    {
      "cell_type": "code",
      "source": [
        "#1. Es divisible entre 4\n",
        "#2. Es divisible entre 400 pero no entre 100\n",
        "año=int(input(\"introduzca un año:\"))\n",
        "if (año%4==0 and año%100!=0):\n",
        "  print(f\"{año}es un año bisiesto\")\n",
        "else:\n",
        "  if año%400==0:\n",
        "    print(f\"{año}es un año bisiesto\")\n",
        "  else:\n",
        "    print(f\"{año} NO es un año bisiesto\")"
      ],
      "metadata": {
        "colab": {
          "base_uri": "https://localhost:8080/"
        },
        "id": "PJtIXq27OoQi",
        "outputId": "4ec97d8a-1368-4876-a919-098a164bf303"
      },
      "execution_count": null,
      "outputs": [
        {
          "output_type": "stream",
          "name": "stdout",
          "text": [
            "introduzca un año:2007\n",
            "2007 NO es un año bisiesto\n"
          ]
        }
      ]
    },
    {
      "cell_type": "code",
      "source": [
        "año"
      ],
      "metadata": {
        "colab": {
          "base_uri": "https://localhost:8080/"
        },
        "id": "s9gkOVdTV4BD",
        "outputId": "3ce770e7-52b8-4372-c3d7-211ef17efb2b"
      },
      "execution_count": null,
      "outputs": [
        {
          "output_type": "execute_result",
          "data": {
            "text/plain": [
              "2000"
            ]
          },
          "metadata": {},
          "execution_count": 3
        }
      ]
    },
    {
      "cell_type": "markdown",
      "source": [
        "\n",
        "\n",
        "\n",
        "##Estructura de desición múltiple if-elif-else\n",
        "Se emplea cuando hay más de una desición\n",
        "\n",
        "\n",
        "\n",
        "\n",
        "\n",
        "```\n",
        "if (cond1) :\n",
        "  si cond1 es verdadero, entro aqui\n",
        "elif (cond2) :\n",
        "  si cond1 es falso, PERO cond2 es verdadero, entro aqui\n",
        "elif (cond3) :\n",
        "si cond1 y cond2 son falso, PERO cond3 es verdadero, entro aqui\n",
        "else: si cond1 y cond2 y cond3 y cond n son falsas, entrará aqui\n",
        "```\n",
        "\n",
        "\n",
        "\n"
      ],
      "metadata": {
        "id": "GBfqzClROu6y"
      }
    },
    {
      "cell_type": "code",
      "source": [
        "if (año%4==0 and año%100!=0):\n",
        "  print(f\"{año}es un año bisiesto\")\n",
        "elif año%400==0:\n",
        "    print(f\"{año}es un año bisiesto\")\n",
        "else:\n",
        "    print(f\"{año} NO es un año bisiesto\")"
      ],
      "metadata": {
        "id": "ASdrEXS6P76y"
      },
      "execution_count": null,
      "outputs": []
    },
    {
      "cell_type": "markdown",
      "source": [
        "##Operador Terniario\n",
        "programar una estructura de selección en una sola linea de código\n",
        "\n",
        "\n",
        "\n",
        "```\n",
        "(lo que se debe ejecutar, si la condición es verdadera) If (CONDICIÓN) else (LO QIE SE DEBE EJECUTAR, SI LA CONDICIÓN ES FALSA)\n",
        "```\n",
        "\n"
      ],
      "metadata": {
        "id": "UrSyR8xAUZW8"
      }
    },
    {
      "cell_type": "code",
      "source": [
        "b=\"\"\n",
        "a= f\"{año} es un año bisiesto\"  if (año%4==0 and año%100!=0) else b\n",
        "b= f\"{año} es un año bisiesto\" if año%400==0 else f\"{año}NO es un año bisiesto\"\n",
        "print(a)"
      ],
      "metadata": {
        "colab": {
          "base_uri": "https://localhost:8080/"
        },
        "id": "H2h1KkBWXdwS",
        "outputId": "eff60727-5d93-4b16-bdaf-1cc50998b24b"
      },
      "execution_count": null,
      "outputs": [
        {
          "output_type": "stream",
          "name": "stdout",
          "text": [
            "\n"
          ]
        }
      ]
    },
    {
      "cell_type": "code",
      "source": [
        "b"
      ],
      "metadata": {
        "colab": {
          "base_uri": "https://localhost:8080/",
          "height": 35
        },
        "id": "jiSwJL5saif_",
        "outputId": "cd9a6c29-6990-41f5-e2f6-638cfb33219e"
      },
      "execution_count": null,
      "outputs": [
        {
          "output_type": "execute_result",
          "data": {
            "text/plain": [
              "'2007NO es un año bisiesto'"
            ],
            "application/vnd.google.colaboratory.intrinsic+json": {
              "type": "string"
            }
          },
          "metadata": {},
          "execution_count": 18
        }
      ]
    },
    {
      "cell_type": "markdown",
      "source": [
        "##CORRECCIÓN GUIA 0\n",
        "1 Escribe un programa que reciba un número e indique si es positivo."
      ],
      "metadata": {
        "id": "TGUReUGAbN0A"
      }
    },
    {
      "cell_type": "code",
      "source": [
        "numero=int(input(\"Introduzca un número \"))\n",
        "if numero>0 :\n",
        "  print(f\"{numero}es un numero positivo \")\n",
        "else :\n",
        "  if numero < 0 :\n",
        "    print(f\"{numero} NO es un número positivo \")\n",
        "  else :\n",
        "      if numero == 0 :\n",
        "       print(f\"{numero} es un número neutro \")"
      ],
      "metadata": {
        "colab": {
          "base_uri": "https://localhost:8080/"
        },
        "id": "wwhVWs35bTDm",
        "outputId": "38e6cedd-157e-48cf-9406-955a4ecfd38a"
      },
      "execution_count": null,
      "outputs": [
        {
          "output_type": "stream",
          "name": "stdout",
          "text": [
            "Introduzca un número 0\n",
            "0 es un número neutro \n"
          ]
        }
      ]
    },
    {
      "cell_type": "code",
      "source": [
        "numero=int(input(\"Introduzca un número\"))\n",
        "if numero>0 :\n",
        "  print(f\"{numero}es un numero positivo\")\n",
        "elif numero>-0.99 :\n",
        " print(f\"{numero} es un número positivo\")\n",
        "else :\n",
        "  print(f\"{numero} NO es un número positivo \")"
      ],
      "metadata": {
        "colab": {
          "base_uri": "https://localhost:8080/"
        },
        "id": "1cnij2S3PGTO",
        "outputId": "99576b07-b4f1-4a26-9f67-7359db7a3182"
      },
      "execution_count": null,
      "outputs": [
        {
          "output_type": "stream",
          "name": "stdout",
          "text": [
            "Introduzca un número10\n",
            "10es un numero positivo\n"
          ]
        }
      ]
    },
    {
      "cell_type": "code",
      "source": [
        "print(f\"{numero}es un numero positivo \") if numero>0 else  print(f\"{numero} NO es un número positivo \")"
      ],
      "metadata": {
        "id": "J41SebSfUe7z",
        "outputId": "500efef8-de89-4a38-9038-b8f68db68c39",
        "colab": {
          "base_uri": "https://localhost:8080/"
        }
      },
      "execution_count": null,
      "outputs": [
        {
          "output_type": "stream",
          "name": "stdout",
          "text": [
            "10es un numero positivo \n"
          ]
        }
      ]
    },
    {
      "cell_type": "markdown",
      "source": [
        "2 Escribe un programa que reciba una edad y determine si la persona es mayor de edad.\n",
        "\n"
      ],
      "metadata": {
        "id": "As2FxB43cVJe"
      }
    },
    {
      "cell_type": "code",
      "source": [
        "edad=int(input(\"Introduzca su edad \"))\n",
        "if edad>18 :\n",
        "  print(\"Eres mayor de edad \")\n",
        "else:\n",
        "  if edad==18 :\n",
        "    print(\"Eres menor de edad \")"
      ],
      "metadata": {
        "colab": {
          "base_uri": "https://localhost:8080/"
        },
        "id": "vdWdA1Hjc9MF",
        "outputId": "7ad29fad-9715-47a8-dc3a-d7c24bed3690"
      },
      "execution_count": null,
      "outputs": [
        {
          "output_type": "stream",
          "name": "stdout",
          "text": [
            "Introduzca su edad 77\n",
            "Eres mayor de edad\n"
          ]
        }
      ]
    },
    {
      "cell_type": "code",
      "source": [
        "edad=int(input(\"Introduzca su edad \"))\n",
        "if edad>18 :\n",
        "  print(\"Eres mayor de edad \")\n",
        "elif edad==18 :\n",
        "   print(\"tienes 18 Eres mayor de edad \")\n",
        "else:\n",
        "  print(\"Eres menor de edad \")"
      ],
      "metadata": {
        "id": "MKm6Kp3CVQnY",
        "outputId": "1a528eea-0357-48e7-aedd-b131fd152b83",
        "colab": {
          "base_uri": "https://localhost:8080/"
        }
      },
      "execution_count": null,
      "outputs": [
        {
          "output_type": "stream",
          "name": "stdout",
          "text": [
            "Introduzca su edad 18\n",
            "tienes 18 Eres mayor de edad \n"
          ]
        }
      ]
    },
    {
      "cell_type": "code",
      "source": [
        "print(\"Eres mayor de edad \") if edad>18 or edad==18 else print(\"Eres menor de edad \")"
      ],
      "metadata": {
        "id": "OAFYUvV6Vuvo",
        "outputId": "9e06a375-c4ed-49c5-8dfb-4e6356a85961",
        "colab": {
          "base_uri": "https://localhost:8080/"
        }
      },
      "execution_count": null,
      "outputs": [
        {
          "output_type": "stream",
          "name": "stdout",
          "text": [
            "Eres menor de edad \n"
          ]
        }
      ]
    },
    {
      "cell_type": "markdown",
      "source": [
        "3 Escribe un programa que reciba dos números e imprima el mayor."
      ],
      "metadata": {
        "id": "J0DHU_wLdfJk"
      }
    },
    {
      "cell_type": "code",
      "source": [
        "nro=int(input(\"Introduzca un número \"))\n",
        "nro2=int(input(\"Introduzca otro número \"))\n",
        "if nro>nro2 :\n",
        "  print(f\"{nro} Es el número mayor \")\n",
        "else:\n",
        "  if nro2>nro :\n",
        "    print(f\"{nro2} Es el número mayor \")"
      ],
      "metadata": {
        "colab": {
          "base_uri": "https://localhost:8080/"
        },
        "id": "Zrb11fgldlHM",
        "outputId": "20724d91-fba8-49f9-bd92-cafa7b8421d4"
      },
      "execution_count": null,
      "outputs": [
        {
          "output_type": "stream",
          "name": "stdout",
          "text": [
            "Introduzca un número 7\n",
            "Introduzca otro número 77\n",
            "77 Es el número mayor \n"
          ]
        }
      ]
    },
    {
      "cell_type": "code",
      "source": [
        "nro=int(input(\"Introduzca un número \"))\n",
        "nro2=int(input(\"Introduzca otro número \"))\n",
        "if nro>nro2 :\n",
        "  print(f\"{nro} Es el número mayor \")\n",
        "elif nro2<nro :\n",
        "  print(f\"{nro} Es el número mayor \")\n",
        "else:\n",
        " print(f\"{nro2} Es el número mayor \")"
      ],
      "metadata": {
        "id": "kqS3ppyIWGmK",
        "outputId": "9b5f6e3f-fee3-4bda-e42e-4a8e0096b1af",
        "colab": {
          "base_uri": "https://localhost:8080/"
        }
      },
      "execution_count": null,
      "outputs": [
        {
          "output_type": "stream",
          "name": "stdout",
          "text": [
            "Introduzca un número 7\n",
            "Introduzca otro número 99\n",
            "99 Es el número mayor \n"
          ]
        }
      ]
    },
    {
      "cell_type": "code",
      "source": [
        "print(f\"{nro} Es el número mayor \") if  nro>nro2 else print(f\"{nro2} Es el número mayor \")"
      ],
      "metadata": {
        "id": "n7TnT_JJWbJc",
        "outputId": "e2503509-32f4-4d6d-ffe2-8af4eab07d71",
        "colab": {
          "base_uri": "https://localhost:8080/"
        }
      },
      "execution_count": null,
      "outputs": [
        {
          "output_type": "stream",
          "name": "stdout",
          "text": [
            "99 Es el número mayor \n"
          ]
        }
      ]
    },
    {
      "cell_type": "markdown",
      "source": [
        "4 Escribe un programa que reciba una calificación (0-100) e indique si es Aprobado (&gt;=60) o\n",
        "Reprobado."
      ],
      "metadata": {
        "id": "Hn9eJOQ3eWyU"
      }
    },
    {
      "cell_type": "code",
      "source": [
        "nota=int(input(\"Introduzca su nota \"))\n",
        "if nota>60 :\n",
        "  print(\"Felicidades, aprobaste\")\n",
        "else :\n",
        "  if nota==60 :\n",
        "   print(\"Felicidades, aprobaste raspando...\")\n",
        "  else:\n",
        "    if nota < 60 :\n",
        "      print(\"Reprobaste, estudia más\")"
      ],
      "metadata": {
        "id": "VtcPsFtQexLb",
        "colab": {
          "base_uri": "https://localhost:8080/"
        },
        "outputId": "5c394218-0a08-480d-c51f-6defb4b970d3"
      },
      "execution_count": null,
      "outputs": [
        {
          "output_type": "stream",
          "name": "stdout",
          "text": [
            "Introduzca su nota 70\n",
            "Felicidades, aprobaste\n"
          ]
        }
      ]
    },
    {
      "cell_type": "code",
      "source": [
        "nota=int(input(\"Introduzca su nota \"))\n",
        "if nota>60 :\n",
        "  print(\"Felicidades, aprobaste\")\n",
        "elif nota==60 :\n",
        "   print(\"Felicidades, aprobaste raspando...\")\n",
        "else:\n",
        "    if nota < 60 :\n",
        "      print(\"Reprobaste, estudia más\")"
      ],
      "metadata": {
        "id": "VuuyYTqpZdzF",
        "outputId": "916dc6f1-de89-44ff-f6ad-ca55668586c5",
        "colab": {
          "base_uri": "https://localhost:8080/"
        }
      },
      "execution_count": null,
      "outputs": [
        {
          "output_type": "stream",
          "name": "stdout",
          "text": [
            "Introduzca su nota 70\n",
            "Felicidades, aprobaste\n"
          ]
        }
      ]
    },
    {
      "cell_type": "code",
      "source": [
        "print(\"Felicidades, aprobaste\") if nota>60 or nota==60 else print(\"Reprobaste, estudia más\")"
      ],
      "metadata": {
        "id": "S1bqH4IZZnfK",
        "outputId": "a9a3ceb8-aad0-477f-9bbf-707c9c9a52e9",
        "colab": {
          "base_uri": "https://localhost:8080/"
        }
      },
      "execution_count": null,
      "outputs": [
        {
          "output_type": "stream",
          "name": "stdout",
          "text": [
            "Felicidades, aprobaste\n"
          ]
        }
      ]
    },
    {
      "cell_type": "markdown",
      "source": [
        "5\tEscribe un programa que determine si un número es par o impar."
      ],
      "metadata": {
        "id": "pzMvUStwaGM-"
      }
    },
    {
      "cell_type": "code",
      "source": [
        "numero=int(input(\"Introduzca un número \"))\n",
        "if numero%2==0 :\n",
        "  print(f\"{numero} es PAR \")\n",
        "else :\n",
        "  if (numero+1)%2==0 :\n",
        "    print(f\"{numero} NO es par \")"
      ],
      "metadata": {
        "id": "2A-mRL8paShT",
        "outputId": "d6a4c342-b63a-48c4-d40f-5cdc21ffb921",
        "colab": {
          "base_uri": "https://localhost:8080/"
        }
      },
      "execution_count": null,
      "outputs": [
        {
          "output_type": "stream",
          "name": "stdout",
          "text": [
            "Introduzca un número 777\n",
            "777 NO es par \n"
          ]
        }
      ]
    },
    {
      "cell_type": "code",
      "source": [
        "numero=int(input(\"Introduzca un número \"))\n",
        "if numero%2==0 :\n",
        "  print(f\"{numero} es PAR \")\n",
        "elif (numero+1)%2==0 :\n",
        "    print(f\"{numero} NO es par \")"
      ],
      "metadata": {
        "id": "ZhVnrabtaalc",
        "outputId": "6466cf5f-2d09-43b5-eaa6-34eaa63f9904",
        "colab": {
          "base_uri": "https://localhost:8080/"
        }
      },
      "execution_count": null,
      "outputs": [
        {
          "output_type": "stream",
          "name": "stdout",
          "text": [
            "Introduzca un número 109389\n",
            "109389 NO es par \n"
          ]
        }
      ]
    },
    {
      "cell_type": "code",
      "source": [
        "print(f\"{numero} es PAR \") if numero%2==0 else print(f\"{numero} NO es par \")"
      ],
      "metadata": {
        "id": "dYsB-uaqbyO-",
        "outputId": "c214039d-0b1f-4cab-d2aa-2ee774c40382",
        "colab": {
          "base_uri": "https://localhost:8080/"
        }
      },
      "execution_count": null,
      "outputs": [
        {
          "output_type": "stream",
          "name": "stdout",
          "text": [
            "109389 NO es par \n"
          ]
        }
      ]
    },
    {
      "cell_type": "markdown",
      "source": [
        "6\tEscribe un programa que reciba tres números e imprima el mayor de los tres."
      ],
      "metadata": {
        "id": "HLJFYNuXEoSp"
      }
    },
    {
      "cell_type": "code",
      "source": [
        "nro=int(input(\"Introduzca un número \"))\n",
        "nro2=int(input(\"Introduzca el segundp número \"))\n",
        "nro3=int(input(\"Introduzca el tercer número \"))\n",
        "if nro>nro2 and nro>nro3 :\n",
        "  print(f\"{nro} Es el número mayor \")\n",
        "else:\n",
        "  if nro2>nro and nro2>nro3 :\n",
        "    print(f\"{nro2} Es el número mayor \")\n",
        "  else:\n",
        "    print(f\"{nro3} Es el número mayor \")"
      ],
      "metadata": {
        "id": "hz2y7N4pEtCv",
        "outputId": "42ddad74-3e0f-4523-a6fb-0de028b03af1",
        "colab": {
          "base_uri": "https://localhost:8080/"
        }
      },
      "execution_count": 8,
      "outputs": [
        {
          "output_type": "stream",
          "name": "stdout",
          "text": [
            "Introduzca un número 77\n",
            "Introduzca el segundp número 7777\n",
            "Introduzca el tercer número 7\n",
            "7777 Es el número mayor \n"
          ]
        }
      ]
    },
    {
      "cell_type": "code",
      "source": [
        "nro=int(input(\"Introduzca un número \"))\n",
        "nro2=int(input(\"Introduzca el segundp número \"))\n",
        "nro3=int(input(\"Introduzca el tercer número \"))\n",
        "if nro>nro2 and nro>nro3 :\n",
        "  print(f\"{nro} Es el número mayor \")\n",
        "elif nro2>nro and nro2>nro3 :\n",
        "    print(f\"{nro2} Es el número mayor \")\n",
        "else:\n",
        "    print(f\"{nro3} Es el número mayor \")"
      ],
      "metadata": {
        "id": "a2q8euHbFvvL"
      },
      "execution_count": null,
      "outputs": []
    },
    {
      "cell_type": "code",
      "source": [
        "b=\"\"\n",
        "a= print(f\"{nro} Es el número mayor \")  if (nro>nro2 and nro>nro3) else b\n",
        "b= print(f\"{nro2} Es el número mayor \") if nro2>nro and nro2>nro3 else print(f\"{nro3} Es el número mayor \")\n",
        "print(a)"
      ],
      "metadata": {
        "id": "rMaWgMuFGYpZ",
        "outputId": "a5528fdd-3b7c-4620-f5c3-d0263522e343",
        "colab": {
          "base_uri": "https://localhost:8080/"
        }
      },
      "execution_count": 13,
      "outputs": [
        {
          "output_type": "stream",
          "name": "stdout",
          "text": [
            "7777 Es el número mayor \n",
            "\n"
          ]
        }
      ]
    },
    {
      "cell_type": "markdown",
      "source": [
        "8\tEscribe un programa que reciba una contraseña e indique si cumple con las siguientes reglas: más de 8 caracteres, contiene al menos un número y una letra mayúscula."
      ],
      "metadata": {
        "id": "NdfQUsSpH1oP"
      }
    }
  ]
}