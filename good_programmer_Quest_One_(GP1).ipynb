{
  "nbformat": 4,
  "nbformat_minor": 0,
  "metadata": {
    "colab": {
      "provenance": [],
      "authorship_tag": "ABX9TyNWifJi6dJ7i3S8dOrUMDc3",
      "include_colab_link": true
    },
    "kernelspec": {
      "name": "python3",
      "display_name": "Python 3"
    },
    "language_info": {
      "name": "python"
    }
  },
  "cells": [
    {
      "cell_type": "markdown",
      "metadata": {
        "id": "view-in-github",
        "colab_type": "text"
      },
      "source": [
        "<a href=\"https://colab.research.google.com/github/Aldana-777/PROGCOM-B/blob/main/good_programmer_Quest_One_(GP1).ipynb\" target=\"_parent\"><img src=\"https://colab.research.google.com/assets/colab-badge.svg\" alt=\"Open In Colab\"/></a>"
      ]
    },
    {
      "cell_type": "code",
      "execution_count": 1,
      "metadata": {
        "colab": {
          "base_uri": "https://localhost:8080/",
          "height": 348
        },
        "id": "CbSp-8jF4lYl",
        "outputId": "86d68e99-9c6a-429b-fbe0-94d8ad0d089e"
      },
      "outputs": [
        {
          "output_type": "error",
          "ename": "TclError",
          "evalue": "no display name and no $DISPLAY environment variable",
          "traceback": [
            "\u001b[0;31m---------------------------------------------------------------------------\u001b[0m",
            "\u001b[0;31mTclError\u001b[0m                                  Traceback (most recent call last)",
            "\u001b[0;32m/tmp/ipython-input-1311772303.py\u001b[0m in \u001b[0;36m<cell line: 0>\u001b[0;34m()\u001b[0m\n\u001b[1;32m     90\u001b[0m \u001b[0;34m\u001b[0m\u001b[0m\n\u001b[1;32m     91\u001b[0m \u001b[0;32mif\u001b[0m \u001b[0m__name__\u001b[0m \u001b[0;34m==\u001b[0m \u001b[0;34m\"__main__\"\u001b[0m\u001b[0;34m:\u001b[0m\u001b[0;34m\u001b[0m\u001b[0;34m\u001b[0m\u001b[0m\n\u001b[0;32m---> 92\u001b[0;31m     \u001b[0mroot\u001b[0m \u001b[0;34m=\u001b[0m \u001b[0mtk\u001b[0m\u001b[0;34m.\u001b[0m\u001b[0mTk\u001b[0m\u001b[0;34m(\u001b[0m\u001b[0;34m)\u001b[0m\u001b[0;34m\u001b[0m\u001b[0;34m\u001b[0m\u001b[0m\n\u001b[0m\u001b[1;32m     93\u001b[0m     \u001b[0mjuego\u001b[0m \u001b[0;34m=\u001b[0m \u001b[0mJuegoPPTLS\u001b[0m\u001b[0;34m(\u001b[0m\u001b[0mroot\u001b[0m\u001b[0;34m)\u001b[0m\u001b[0;34m\u001b[0m\u001b[0;34m\u001b[0m\u001b[0m\n\u001b[1;32m     94\u001b[0m     \u001b[0mroot\u001b[0m\u001b[0;34m.\u001b[0m\u001b[0mmainloop\u001b[0m\u001b[0;34m(\u001b[0m\u001b[0;34m)\u001b[0m\u001b[0;34m\u001b[0m\u001b[0;34m\u001b[0m\u001b[0m\n",
            "\u001b[0;32m/usr/lib/python3.12/tkinter/__init__.py\u001b[0m in \u001b[0;36m__init__\u001b[0;34m(self, screenName, baseName, className, useTk, sync, use)\u001b[0m\n\u001b[1;32m   2347\u001b[0m                 \u001b[0mbaseName\u001b[0m \u001b[0;34m=\u001b[0m \u001b[0mbaseName\u001b[0m \u001b[0;34m+\u001b[0m \u001b[0mext\u001b[0m\u001b[0;34m\u001b[0m\u001b[0;34m\u001b[0m\u001b[0m\n\u001b[1;32m   2348\u001b[0m         \u001b[0minteractive\u001b[0m \u001b[0;34m=\u001b[0m \u001b[0;32mFalse\u001b[0m\u001b[0;34m\u001b[0m\u001b[0;34m\u001b[0m\u001b[0m\n\u001b[0;32m-> 2349\u001b[0;31m         \u001b[0mself\u001b[0m\u001b[0;34m.\u001b[0m\u001b[0mtk\u001b[0m \u001b[0;34m=\u001b[0m \u001b[0m_tkinter\u001b[0m\u001b[0;34m.\u001b[0m\u001b[0mcreate\u001b[0m\u001b[0;34m(\u001b[0m\u001b[0mscreenName\u001b[0m\u001b[0;34m,\u001b[0m \u001b[0mbaseName\u001b[0m\u001b[0;34m,\u001b[0m \u001b[0mclassName\u001b[0m\u001b[0;34m,\u001b[0m \u001b[0minteractive\u001b[0m\u001b[0;34m,\u001b[0m \u001b[0mwantobjects\u001b[0m\u001b[0;34m,\u001b[0m \u001b[0museTk\u001b[0m\u001b[0;34m,\u001b[0m \u001b[0msync\u001b[0m\u001b[0;34m,\u001b[0m \u001b[0muse\u001b[0m\u001b[0;34m)\u001b[0m\u001b[0;34m\u001b[0m\u001b[0;34m\u001b[0m\u001b[0m\n\u001b[0m\u001b[1;32m   2350\u001b[0m         \u001b[0;32mif\u001b[0m \u001b[0m_debug\u001b[0m\u001b[0;34m:\u001b[0m\u001b[0;34m\u001b[0m\u001b[0;34m\u001b[0m\u001b[0m\n\u001b[1;32m   2351\u001b[0m             \u001b[0mself\u001b[0m\u001b[0;34m.\u001b[0m\u001b[0mtk\u001b[0m\u001b[0;34m.\u001b[0m\u001b[0msettrace\u001b[0m\u001b[0;34m(\u001b[0m\u001b[0m_print_command\u001b[0m\u001b[0;34m)\u001b[0m\u001b[0;34m\u001b[0m\u001b[0;34m\u001b[0m\u001b[0m\n",
            "\u001b[0;31mTclError\u001b[0m: no display name and no $DISPLAY environment variable"
          ]
        }
      ],
      "source": [
        "import tkinter as tk\n",
        "from tkinter import messagebox\n",
        "import random\n",
        "\n",
        "# Opciones del juego\n",
        "opciones = [\"Piedra\", \"Papel\", \"Tijera\", \"Lagarto\", \"Spock\"]\n",
        "\n",
        "# Reglas: qué gana a qué\n",
        "reglas = {\n",
        "    \"Piedra\": [\"Tijera\", \"Lagarto\"],\n",
        "    \"Papel\": [\"Piedra\", \"Spock\"],\n",
        "    \"Tijera\": [\"Papel\", \"Lagarto\"],\n",
        "    \"Lagarto\": [\"Spock\", \"Papel\"],\n",
        "    \"Spock\": [\"Tijera\", \"Piedra\"]\n",
        "}\n",
        "\n",
        "class JuegoPPTLS:\n",
        "    def __init__(self, master):\n",
        "        self.master = master\n",
        "        master.title(\"Piedra Papel Tijera Lagarto Spock\")\n",
        "        master.resizable(False, False)\n",
        "\n",
        "        # Título\n",
        "        self.label = tk.Label(master, text=\"Elige tu jugada:\", font=(\"Arial\", 14))\n",
        "        self.label.pack(pady=10)\n",
        "\n",
        "        # Botones de opciones\n",
        "        self.frame_botones = tk.Frame(master)\n",
        "        self.frame_botones.pack()\n",
        "\n",
        "        for opcion in opciones:\n",
        "            btn = tk.Button(self.frame_botones, text=opcion, width=12, height=2,\n",
        "                            command=lambda op=opcion: self.jugar(op))\n",
        "            btn.pack(side=tk.LEFT, padx=5, pady=5)\n",
        "\n",
        "        # Resultado del juego\n",
        "        self.resultado = tk.Label(master, text=\"\", font=(\"Arial\", 12), fg=\"blue\")\n",
        "        self.resultado.pack(pady=20)\n",
        "\n",
        "        # Contador de partidas\n",
        "        self.contador = {\"Ganaste\": 0, \"Perdiste\": 0, \"Empate\": 0}\n",
        "        self.marcador = tk.Label(master, text=\"Ganadas: 0 | Perdidas: 0 | Empates: 0\", font=(\"Arial\", 12))\n",
        "        self.marcador.pack(pady=10)\n",
        "\n",
        "        # Botones adicionales\n",
        "        self.frame_inferior = tk.Frame(master)\n",
        "        self.frame_inferior.pack(pady=10)\n",
        "\n",
        "        self.boton_reglas = tk.Button(self.frame_inferior, text=\"Reglas\", width=10, command=self.mostrar_reglas)\n",
        "        self.boton_reglas.pack(side=tk.LEFT, padx=10)\n",
        "\n",
        "        self.boton_salir = tk.Button(self.frame_inferior, text=\"Salir\", width=10, command=master.quit)\n",
        "        self.boton_salir.pack(side=tk.LEFT, padx=10)\n",
        "\n",
        "    def jugar(self, eleccion_usuario):\n",
        "        eleccion_ia = random.choice(opciones)\n",
        "        resultado = self.comprobar_ganador(eleccion_usuario, eleccion_ia)\n",
        "\n",
        "        # Actualizar contador\n",
        "        if resultado == \"¡Ganaste!\":\n",
        "            self.contador[\"Ganaste\"] += 1\n",
        "            color = \"green\"\n",
        "        elif resultado == \"¡Perdiste!\":\n",
        "            self.contador[\"Perdiste\"] += 1\n",
        "            color = \"red\"\n",
        "        else:\n",
        "            self.contador[\"Empate\"] += 1\n",
        "            color = \"gray\"\n",
        "\n",
        "        # Mostrar resultado\n",
        "        texto = f\"Tú elegiste: {eleccion_usuario}\\nIA eligió: {eleccion_ia}\\n\\n{resultado}\"\n",
        "        self.resultado.config(text=texto, fg=color)\n",
        "\n",
        "        # Actualizar marcador\n",
        "        self.marcador.config(\n",
        "            text=f\"Ganadas: {self.contador['Ganaste']} | Perdidas: {self.contador['Perdiste']} | Empates: {self.contador['Empate']}\"\n",
        "        )\n",
        "\n",
        "    def comprobar_ganador(self, usuario, ia):\n",
        "        if usuario == ia:\n",
        "            return \"¡Empate!\"\n",
        "        elif ia in reglas[usuario]:\n",
        "            return \"¡Ganaste!\"\n",
        "        else:\n",
        "            return \"¡Perdiste!\"\n",
        "\n",
        "    def mostrar_reglas(self):\n",
        "        reglas_texto = \"\\n\".join([f\"{k} gana a {', '.join(v)}\" for k, v in reglas.items()])\n",
        "        messagebox.showinfo(\"Reglas del Juego\", reglas_texto)\n",
        "\n",
        "if __name__ == \"__main__\":\n",
        "    root = tk.Tk()\n",
        "    juego = JuegoPPTLS(root)\n",
        "    root.mainloop()"
      ]
    }
  ]
}