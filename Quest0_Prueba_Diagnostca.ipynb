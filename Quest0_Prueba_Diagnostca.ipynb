{
  "nbformat": 4,
  "nbformat_minor": 0,
  "metadata": {
    "colab": {
      "provenance": []
    },
    "kernelspec": {
      "name": "python3",
      "display_name": "Python 3"
    },
    "language_info": {
      "name": "python"
    }
  },
  "cells": [
    {
      "cell_type": "markdown",
      "source": [
        "#Prueba diagnóstica"
      ],
      "metadata": {
        "id": "M_VyDLqjoaS_"
      }
    },
    {
      "cell_type": "markdown",
      "source": [
        "##PARTE 1: Estructuras de Decisión\n",
        "\n"
      ],
      "metadata": {
        "id": "YpBOKG4RomZ-"
      }
    },
    {
      "cell_type": "markdown",
      "source": [
        "\n",
        "\n",
        "```\n",
        "1- Algoritmo PREGUNTA1.1\n",
        "\tn<-0\n",
        "\tEscribir \"Ingrese un número para saber si es positivo o no\"\n",
        "\tLeer n\n",
        "\tSi n>0 Entonces\n",
        "\t\tEscribir \"El número es positivo\"\n",
        "\tSiNo\n",
        "\t\tEscribir \"El número NO es positivo\"\n",
        "\tFin Si\n",
        "FinAlgoritmo[texto del enlace](https://)\n",
        "```\n",
        "\n",
        "\n"
      ],
      "metadata": {
        "id": "awy3lUkjqkIt"
      }
    },
    {
      "cell_type": "markdown",
      "source": [
        "\n",
        "\n",
        "```\n",
        "2- Algoritmo PREGUNTA1.2\n",
        "\tedad<-0\n",
        "\tEscribir \"Porfavor ingrese su edad para determinar si es mayor de edad o no\"\n",
        "\tLeer edad\n",
        "\tSi edad>=18 Entonces\n",
        "\t\tEscribir \"Usted es mayor de edad\"\n",
        "\tSiNo\n",
        "\t\tEscribir \"Usted es menor de edad\"\n",
        "\tFin Si\n",
        "FinAlgoritmo\n",
        "\n",
        "\n",
        "```\n",
        "\n"
      ],
      "metadata": {
        "id": "fNpEQvJWsKPT"
      }
    },
    {
      "cell_type": "markdown",
      "source": [
        "\n",
        "\n",
        "```\n",
        "3-Algoritmo PREGUNTA1.3\n",
        "\tn1<-0\n",
        "\tn2 <- 0\n",
        "\tEscribir \"Porfavor digite un número\"\n",
        "\tLeer n1\n",
        "\tEscribir \"Porfavor digite otro número\"\n",
        "\tLeer n2\n",
        "\tSi n1 < n2 Entonces\n",
        "\t\tEscribir \"El número mayor es: \", n2\n",
        "\tSiNo\n",
        "\t\tEscribir \"El número mayor es: \", n1\n",
        "\tFin Si\n",
        "FinAlgoritmo\n",
        "```\n",
        "\n"
      ],
      "metadata": {
        "id": "GBgz00QdusD5"
      }
    },
    {
      "cell_type": "markdown",
      "source": [
        "\n",
        "\n",
        "```\n",
        "Algoritmo PREGUNTA1.4\n",
        "\tcalificacion<-0\n",
        "\tEscribir \"Porfavor digite su calificación\"\n",
        "\tLeer calificacion\n",
        "\tSi calificacion>100 Entonces\n",
        "\t\tESCRIBIR \"¿hizo trampa?\"\n",
        "\tSiNo\n",
        "\t\tSi calificacion >= 60 Entonces\n",
        "\t\t\tEscribir \"FELICIDADES: Aprobaste el curso\"\n",
        "\t\tSiNo\n",
        "\t\t\tEscribir \"Mejor suerte para la próxima ):\"\n",
        "\t\tFin Si\n",
        "\tFin Si\n",
        "FinAlgoritmo\n",
        "\n",
        "```\n",
        "\n",
        "\n"
      ],
      "metadata": {
        "id": "CckayGQ4wtZP"
      }
    },
    {
      "cell_type": "markdown",
      "source": [
        "\n",
        "\n",
        "```\n",
        "EJERCICIO 1.5\n",
        "Por algoritmia yo lo haría así:\n",
        "1- Inicio del algoritmo\n",
        "2- Escribir \"Escriba un número\"\n",
        "3- Asignar el valor de (n) = 0\n",
        "4- Leer (n)\n",
        "5- (Operación de valor) (n1) = (n / 2)\n",
        "6- (Condición) Si n1 = (Un numero entero) Entonces:\n",
        "7- Esrbibir \"El número digitado es par\"\n",
        "8- Sino\n",
        "9- Esrbibir \"El número digitado es impar\"\n",
        "10- Fin del algoritmo\n",
        "```\n"
      ],
      "metadata": {
        "id": "O9MImlt5wtGP"
      }
    },
    {
      "cell_type": "markdown",
      "source": [
        "\n",
        "\n",
        "```\n",
        "# Tiene formato de códigoAlgoritmo PREGUNTA1.6\n",
        "\tn1<-0\n",
        "\tn2 <- 0\n",
        "\tn3 <- 0\n",
        "\tEscribir \"Porfavor digite un número\"\n",
        "\tLeer n1\n",
        "\tEscribir \"Porfavor digite otro número\"\n",
        "\tLeer n2\n",
        "\tEscribir \"Porfavor digite el tercer número\"\n",
        "\tLeer n3\n",
        "\tSi (n1 > n2) Y (n1 > n3) Entonces\n",
        "\t\tEscribir \"El número mayor es: \", n1\n",
        "\tSiNo\n",
        "\t\tSi n2 > n3 Entonces\n",
        "\t\t\tEscribir \"El número mayor es: \", n2\n",
        "\t\tSiNo\n",
        "\t\t\tEscribir \"El número mayor es: \", n3\n",
        "\t\tFin Si\n",
        "\tFin Si\n",
        "FinAlgoritmo\n",
        "```\n",
        "\n"
      ],
      "metadata": {
        "id": "hvONsMnO0K_c"
      }
    },
    {
      "cell_type": "markdown",
      "source": [
        "\n",
        "\n",
        "\n",
        "```\n",
        "# 1- Inicio algoritmo 1.7\n",
        "2- Escribir \"Digite un año para saber si es biciesto\"\n",
        "3- año = 0\n",
        "4- Leer año\n",
        "5- Si año es divisble entre 400 y Si año es divisble entre 100 y si año es divisible entre 4, Entonces:\n",
        "6- escribir \"El año es biciesto\"\n",
        "7- escribir \"El año NO es biciesto\"\n",
        "8- Fin del algoritmo\n",
        "```\n",
        "\n",
        "\n",
        "\n",
        "\n"
      ],
      "metadata": {
        "id": "EGrLnGzzu0CA"
      }
    }
  ]
}