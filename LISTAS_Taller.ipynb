{
  "nbformat": 4,
  "nbformat_minor": 0,
  "metadata": {
    "colab": {
      "provenance": [],
      "authorship_tag": "ABX9TyMqR5l47Gi+uX/UPqXPcs72",
      "include_colab_link": true
    },
    "kernelspec": {
      "name": "python3",
      "display_name": "Python 3"
    },
    "language_info": {
      "name": "python"
    }
  },
  "cells": [
    {
      "cell_type": "markdown",
      "metadata": {
        "id": "view-in-github",
        "colab_type": "text"
      },
      "source": [
        "<a href=\"https://colab.research.google.com/github/Aldana-777/PROGCOM-B/blob/main/LISTAS_Taller.ipynb\" target=\"_parent\"><img src=\"https://colab.research.google.com/assets/colab-badge.svg\" alt=\"Open In Colab\"/></a>"
      ]
    },
    {
      "cell_type": "markdown",
      "source": [
        "#QUEST/TALLER LISTAS"
      ],
      "metadata": {
        "id": "E0l_uWN_dAoO"
      }
    },
    {
      "cell_type": "markdown",
      "source": [
        "**1) Crear una lista con los cuadrados de los números del 1 al 10.**"
      ],
      "metadata": {
        "id": "1pfPZq2Bpafj"
      }
    },
    {
      "cell_type": "code",
      "source": [
        "Ncuadrados = [i ** 2 for i in range(1,11)]\n",
        "Ncuadrados"
      ],
      "metadata": {
        "colab": {
          "base_uri": "https://localhost:8080/"
        },
        "id": "y46zJ8l_paDX",
        "outputId": "68b5de9c-d58b-427d-e826-fbf0d622ba87"
      },
      "execution_count": 61,
      "outputs": [
        {
          "output_type": "execute_result",
          "data": {
            "text/plain": [
              "[1, 4, 9, 16, 25, 36, 49, 64, 81, 100]"
            ]
          },
          "metadata": {},
          "execution_count": 61
        }
      ]
    },
    {
      "cell_type": "markdown",
      "source": [
        "**2) Obtener una lista con los números pares del 0 al 20.**"
      ],
      "metadata": {
        "id": "6iuY3vOCpEgz"
      }
    },
    {
      "cell_type": "code",
      "source": [
        "Npares = [num for num in range(1,21) if num%2 ==0]\n",
        "Npares"
      ],
      "metadata": {
        "colab": {
          "base_uri": "https://localhost:8080/"
        },
        "id": "9sduYWwFpIPZ",
        "outputId": "bf45b7a2-6e89-4186-b940-f578f32319f7"
      },
      "execution_count": 59,
      "outputs": [
        {
          "output_type": "execute_result",
          "data": {
            "text/plain": [
              "[2, 4, 6, 8, 10, 12, 14, 16, 18, 20]"
            ]
          },
          "metadata": {},
          "execution_count": 59
        }
      ]
    },
    {
      "cell_type": "markdown",
      "source": [
        "**3) Crear una lista con el doble de cada número del 1 al 5.**"
      ],
      "metadata": {
        "id": "rOVYKw92oyes"
      }
    },
    {
      "cell_type": "code",
      "source": [
        "Dobles = [n * 2 for n in range(1,6)]\n",
        "Dobles"
      ],
      "metadata": {
        "colab": {
          "base_uri": "https://localhost:8080/"
        },
        "id": "dR3Hv4WDo2Yj",
        "outputId": "7c1a3610-c137-4c1a-c21a-c44c1ab7c25a"
      },
      "execution_count": 54,
      "outputs": [
        {
          "output_type": "execute_result",
          "data": {
            "text/plain": [
              "[2, 4, 6, 8, 10]"
            ]
          },
          "metadata": {},
          "execution_count": 54
        }
      ]
    },
    {
      "cell_type": "markdown",
      "source": [
        "**4) De la palabra \"programacion\", obtener solo las vocales.**"
      ],
      "metadata": {
        "id": "PFlCHdy2neYC"
      }
    },
    {
      "cell_type": "code",
      "source": [
        "word = \"programacion\"\n",
        "v = [w for w in word if w in \"a-e-i-o-u\"]\n",
        "v"
      ],
      "metadata": {
        "colab": {
          "base_uri": "https://localhost:8080/"
        },
        "id": "4ZUluZJbnlEu",
        "outputId": "f54d6a20-0f99-4e45-e4c1-8d459ff30e12"
      },
      "execution_count": 51,
      "outputs": [
        {
          "output_type": "execute_result",
          "data": {
            "text/plain": [
              "['o', 'a', 'a', 'i', 'o']"
            ]
          },
          "metadata": {},
          "execution_count": 51
        }
      ]
    },
    {
      "cell_type": "markdown",
      "source": [
        "**5) Dada la lista [\"python\", \"java\", \"c++\"], obtener otra lista con las palabras en mayúsculas.**"
      ],
      "metadata": {
        "id": "4v5QiNb-m7Vl"
      }
    },
    {
      "cell_type": "code",
      "source": [
        "Programas = [\"python\", \"java\", \"c++\"]\n",
        "MAYÚSCULA = [pg.upper() for pg in Programas]\n",
        "MAYÚSCULA"
      ],
      "metadata": {
        "colab": {
          "base_uri": "https://localhost:8080/"
        },
        "id": "0uXXXPBfm7v7",
        "outputId": "ec2a8470-99dd-4331-8e37-0e9b2f993e23"
      },
      "execution_count": 44,
      "outputs": [
        {
          "output_type": "execute_result",
          "data": {
            "text/plain": [
              "['PYTHON', 'JAVA', 'C++']"
            ]
          },
          "metadata": {},
          "execution_count": 44
        }
      ]
    },
    {
      "cell_type": "markdown",
      "source": [
        "**6) Crear una lista con \"par\" o \"impar\" para los números del 1 al 10.**"
      ],
      "metadata": {
        "id": "Tk-tzrS_mWaG"
      }
    },
    {
      "cell_type": "code",
      "source": [
        "ListaN110 = [1,2,3,4,5,6,7,8,9,10]\n",
        "paridad = [(x, \"es par\") if x%2==0 else (x, \"es impar\") for x in ListaN110]\n",
        "paridad"
      ],
      "metadata": {
        "colab": {
          "base_uri": "https://localhost:8080/"
        },
        "id": "iUTDp0uNmW3s",
        "outputId": "01d4b4d2-e2c0-48c3-93c7-c7557331f3cc"
      },
      "execution_count": 38,
      "outputs": [
        {
          "output_type": "execute_result",
          "data": {
            "text/plain": [
              "[(1, 'es impar'),\n",
              " (2, 'es par'),\n",
              " (3, 'es impar'),\n",
              " (4, 'es par'),\n",
              " (5, 'es impar'),\n",
              " (6, 'es par'),\n",
              " (7, 'es impar'),\n",
              " (8, 'es par'),\n",
              " (9, 'es impar'),\n",
              " (10, 'es par')]"
            ]
          },
          "metadata": {},
          "execution_count": 38
        }
      ]
    },
    {
      "cell_type": "markdown",
      "source": [
        "**7) Generar una lista de tuplas con el número y su cuadrado del 1 al 5.**"
      ],
      "metadata": {
        "id": "8JY6i-SdlRqs"
      }
    },
    {
      "cell_type": "code",
      "source": [
        "ListaN15 = [1,2,3,4,5]\n",
        "Nalcuadrado = [(x, \"su cuadrado es\" ,x**2 ) for x in ListaN15]\n",
        "Nalcuadrado"
      ],
      "metadata": {
        "colab": {
          "base_uri": "https://localhost:8080/"
        },
        "id": "y41L9hEilQ0m",
        "outputId": "c71ac6cd-86e2-40d3-8126-6f2157861856"
      },
      "execution_count": 47,
      "outputs": [
        {
          "output_type": "execute_result",
          "data": {
            "text/plain": [
              "[(1, 'su cuadrado es', 1),\n",
              " (2, 'su cuadrado es', 4),\n",
              " (3, 'su cuadrado es', 9),\n",
              " (4, 'su cuadrado es', 16),\n",
              " (5, 'su cuadrado es', 25)]"
            ]
          },
          "metadata": {},
          "execution_count": 47
        }
      ]
    },
    {
      "cell_type": "markdown",
      "source": [
        "**8) Crear una lista con todas las combinaciones de letras en [\"a\",\"b\"] y números en [1,2,3].**"
      ],
      "metadata": {
        "id": "9CYXQ6QSkybq"
      }
    },
    {
      "cell_type": "code",
      "source": [
        "Letras = [\"a\",\"b\"]\n",
        "nums = [1,2,3]\n",
        "Combinacionesposibles = [(lt,Numero) for lt in Letras for Numero in nums]\n",
        "Combinacionesposibles"
      ],
      "metadata": {
        "colab": {
          "base_uri": "https://localhost:8080/"
        },
        "id": "vFXlNDkrky-w",
        "outputId": "a8d4e948-d579-4e82-bd8b-38ad5cfc3076"
      },
      "execution_count": 50,
      "outputs": [
        {
          "output_type": "execute_result",
          "data": {
            "text/plain": [
              "[('a', 1), ('a', 2), ('a', 3), ('b', 1), ('b', 2), ('b', 3)]"
            ]
          },
          "metadata": {},
          "execution_count": 50
        }
      ]
    },
    {
      "cell_type": "markdown",
      "source": [
        "**9) De la lista [\"sol\", \"estrella\", \"mar\", \"planeta\"], obtener solo las palabras con más de 4 letras.**"
      ],
      "metadata": {
        "id": "s4lY4f5Qjk6M"
      }
    },
    {
      "cell_type": "code",
      "source": [
        "palabras =[\"sol\", \"estrella\", \"mar\", \"planeta\"]\n",
        "f = [p for p in palabras if (len(p)>4)]\n",
        "f"
      ],
      "metadata": {
        "colab": {
          "base_uri": "https://localhost:8080/"
        },
        "id": "0Q8InurIjlc4",
        "outputId": "74070990-2fc1-493d-8ec3-207f7468f52a"
      },
      "execution_count": 29,
      "outputs": [
        {
          "output_type": "execute_result",
          "data": {
            "text/plain": [
              "['estrella', 'planeta']"
            ]
          },
          "metadata": {},
          "execution_count": 29
        }
      ]
    },
    {
      "cell_type": "markdown",
      "source": [
        "**10) Clasificar la temperatura de una lista. Si la temperatura es menor a 26, el clima es \"frío\". Si está entre 26 a 29, es \"templado\". Si es mayor a 29, el clima es \"caliente\"**"
      ],
      "metadata": {
        "id": "mxoDg8Hrif59"
      }
    },
    {
      "cell_type": "code",
      "execution_count": 63,
      "metadata": {
        "colab": {
          "base_uri": "https://localhost:8080/"
        },
        "id": "5z6yT6VFbrXC",
        "outputId": "67fe6fa3-793b-47e4-8a1b-cbc353e86af2"
      },
      "outputs": [
        {
          "output_type": "execute_result",
          "data": {
            "text/plain": [
              "[(-10, 'frío'),\n",
              " (-9, 'frío'),\n",
              " (-8, 'frío'),\n",
              " (-7, 'frío'),\n",
              " (-6, 'frío'),\n",
              " (-5, 'frío'),\n",
              " (-4, 'frío'),\n",
              " (-3, 'frío'),\n",
              " (-2, 'frío'),\n",
              " (-1, 'frío'),\n",
              " (0, 'frío'),\n",
              " (1, 'frío'),\n",
              " (2, 'frío'),\n",
              " (3, 'frío'),\n",
              " (4, 'frío'),\n",
              " (5, 'frío'),\n",
              " (6, 'frío'),\n",
              " (7, 'frío'),\n",
              " (8, 'frío'),\n",
              " (9, 'frío'),\n",
              " (10, 'frío'),\n",
              " (11, 'frío'),\n",
              " (12, 'frío'),\n",
              " (13, 'frío'),\n",
              " (14, 'frío'),\n",
              " (15, 'frío'),\n",
              " (16, 'frío'),\n",
              " (17, 'frío'),\n",
              " (18, 'frío'),\n",
              " (19, 'frío'),\n",
              " (20, 'frío'),\n",
              " (21, 'frío'),\n",
              " (22, 'frío'),\n",
              " (23, 'frío'),\n",
              " (24, 'frío'),\n",
              " (25, 'frío'),\n",
              " (26, 'Templado'),\n",
              " (27, 'Templado'),\n",
              " (28, 'Templado'),\n",
              " (29, 'Templado'),\n",
              " (30, 'Caliente'),\n",
              " (31, 'Caliente'),\n",
              " (32, 'Caliente'),\n",
              " (33, 'Caliente'),\n",
              " (34, 'Caliente'),\n",
              " (35, 'Caliente'),\n",
              " (36, 'Caliente'),\n",
              " (37, 'Caliente'),\n",
              " (38, 'Caliente'),\n",
              " (39, 'Caliente'),\n",
              " (40, 'Caliente'),\n",
              " (41, 'Caliente'),\n",
              " (42, 'Caliente'),\n",
              " (43, 'Caliente')]"
            ]
          },
          "metadata": {},
          "execution_count": 63
        }
      ],
      "source": [
        "n=list(range(-10,44)) #Los numeros de la lista van desde la temperatura mínima hasta la máxima temperatura que puede soportar el cuerpo humano\n",
        "temperatura=[(x, \"frío\") if x<26 else (x, \"Templado\") if x>=26 and x<=29 else (x, \"Caliente\") for x in n]\n",
        "temperatura"
      ]
    }
  ]
}