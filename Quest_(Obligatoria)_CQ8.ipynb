{
  "nbformat": 4,
  "nbformat_minor": 0,
  "metadata": {
    "colab": {
      "provenance": [],
      "authorship_tag": "ABX9TyMHOMxH8lPqQEytvei3Qwyl",
      "include_colab_link": true
    },
    "kernelspec": {
      "name": "python3",
      "display_name": "Python 3"
    },
    "language_info": {
      "name": "python"
    }
  },
  "cells": [
    {
      "cell_type": "markdown",
      "metadata": {
        "id": "view-in-github",
        "colab_type": "text"
      },
      "source": [
        "<a href=\"https://colab.research.google.com/github/Aldana-777/PROGCOM-B/blob/main/Quest_(Obligatoria)_CQ8.ipynb\" target=\"_parent\"><img src=\"https://colab.research.google.com/assets/colab-badge.svg\" alt=\"Open In Colab\"/></a>"
      ]
    },
    {
      "cell_type": "markdown",
      "source": [
        "#CHEMS QUEST 8 (CQ8) Quest Obligatoria"
      ],
      "metadata": {
        "id": "xnAwC51EZQ5c"
      }
    },
    {
      "cell_type": "markdown",
      "source": [
        "Un tipo de error bastante común, y que vimos en la clase de \"listas\" fue el error \"IndexError: list index\" (index de la lista fuera de rango). Como se demuestra en el siguiente ejemplo: en donde se quiere imprimir \"3\"\n",
        "\n",
        "```\n",
        "numeros = range(1,4)\n",
        "numeros[2]\n",
        "```\n",
        "\n",
        "En donde el error que se presenta, es que no se puede imprimir el 3 que se solicita, ya que phyton empieza a contar desde 0, en este caso se presentan los valores de esta lista hasta el numero 3, en donde el valor máximo existentw que se puede solicitar es el [2], por tanto, el [3] no existe."
      ],
      "metadata": {
        "id": "eQ4uRIk2Zhpi"
      }
    },
    {
      "cell_type": "markdown",
      "source": [
        "Demostración del error:"
      ],
      "metadata": {
        "id": "FoecMEkOc6qA"
      }
    },
    {
      "cell_type": "code",
      "source": [
        "numeros = range(1,4)\n",
        "numeros[3]"
      ],
      "metadata": {
        "colab": {
          "base_uri": "https://localhost:8080/",
          "height": 159
        },
        "id": "zznW6sImeyC3",
        "outputId": "316e8128-f753-46a7-e8de-a52f20794abc"
      },
      "execution_count": 54,
      "outputs": [
        {
          "output_type": "error",
          "ename": "IndexError",
          "evalue": "range object index out of range",
          "traceback": [
            "\u001b[0;31m---------------------------------------------------------------------------\u001b[0m",
            "\u001b[0;31mIndexError\u001b[0m                                Traceback (most recent call last)",
            "\u001b[0;32m/tmp/ipython-input-1172132612.py\u001b[0m in \u001b[0;36m<cell line: 0>\u001b[0;34m()\u001b[0m\n\u001b[1;32m      1\u001b[0m \u001b[0mnumeros\u001b[0m \u001b[0;34m=\u001b[0m \u001b[0mrange\u001b[0m\u001b[0;34m(\u001b[0m\u001b[0;36m1\u001b[0m\u001b[0;34m,\u001b[0m\u001b[0;36m4\u001b[0m\u001b[0;34m)\u001b[0m\u001b[0;34m\u001b[0m\u001b[0;34m\u001b[0m\u001b[0m\n\u001b[0;32m----> 2\u001b[0;31m \u001b[0mnumeros\u001b[0m\u001b[0;34m[\u001b[0m\u001b[0;36m3\u001b[0m\u001b[0;34m]\u001b[0m\u001b[0;34m\u001b[0m\u001b[0;34m\u001b[0m\u001b[0m\n\u001b[0m",
            "\u001b[0;31mIndexError\u001b[0m: range object index out of range"
          ]
        }
      ]
    },
    {
      "cell_type": "markdown",
      "source": [
        "Corrección:\n",
        "Para poder imprimir el 3, es necesario poner [2], ya que phyton empiesa a contar desde el 0 hasta el número final del rango"
      ],
      "metadata": {
        "id": "FgqWoN-1fivN"
      }
    },
    {
      "cell_type": "code",
      "source": [
        "numeros = range(1,4)\n",
        "numeros[2]"
      ],
      "metadata": {
        "colab": {
          "base_uri": "https://localhost:8080/"
        },
        "id": "rjNDpQ1he1gF",
        "outputId": "568a656b-ac3d-4726-d09c-37f5f724d6c2"
      },
      "execution_count": 52,
      "outputs": [
        {
          "output_type": "execute_result",
          "data": {
            "text/plain": [
              "3"
            ]
          },
          "metadata": {},
          "execution_count": 52
        }
      ]
    }
  ]
}