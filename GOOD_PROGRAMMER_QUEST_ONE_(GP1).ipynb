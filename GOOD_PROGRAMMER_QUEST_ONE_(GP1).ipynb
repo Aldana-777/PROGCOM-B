{
  "nbformat": 4,
  "nbformat_minor": 0,
  "metadata": {
    "colab": {
      "provenance": [],
      "authorship_tag": "ABX9TyPAvjhmDBV3u+2YxcRA/XKm",
      "include_colab_link": true
    },
    "kernelspec": {
      "name": "python3",
      "display_name": "Python 3"
    },
    "language_info": {
      "name": "python"
    }
  },
  "cells": [
    {
      "cell_type": "markdown",
      "metadata": {
        "id": "view-in-github",
        "colab_type": "text"
      },
      "source": [
        "<a href=\"https://colab.research.google.com/github/Aldana-777/PROGCOM-B/blob/main/GOOD_PROGRAMMER_QUEST_ONE_(GP1).ipynb\" target=\"_parent\"><img src=\"https://colab.research.google.com/assets/colab-badge.svg\" alt=\"Open In Colab\"/></a>"
      ]
    },
    {
      "cell_type": "markdown",
      "source": [
        "ABRIR EN VISUAL STUDIOS"
      ],
      "metadata": {
        "id": "k1Hx2rHJrBeE"
      }
    },
    {
      "cell_type": "code",
      "execution_count": 1,
      "metadata": {
        "colab": {
          "base_uri": "https://localhost:8080/",
          "height": 332
        },
        "id": "xYc1P80Vj6_2",
        "outputId": "4e97c2d7-4e33-43cf-a83e-0c5aca5b40f0"
      },
      "outputs": [
        {
          "output_type": "error",
          "ename": "TclError",
          "evalue": "no display name and no $DISPLAY environment variable",
          "traceback": [
            "\u001b[0;31m---------------------------------------------------------------------------\u001b[0m",
            "\u001b[0;31mTclError\u001b[0m                                  Traceback (most recent call last)",
            "\u001b[0;32m/tmp/ipython-input-1075194738.py\u001b[0m in \u001b[0;36m<cell line: 0>\u001b[0;34m()\u001b[0m\n\u001b[1;32m     68\u001b[0m             \u001b[0;32mreturn\u001b[0m \u001b[0;34m\"Perdiste\"\u001b[0m\u001b[0;34m\u001b[0m\u001b[0;34m\u001b[0m\u001b[0m\n\u001b[1;32m     69\u001b[0m \u001b[0;32mif\u001b[0m \u001b[0m__name__\u001b[0m \u001b[0;34m==\u001b[0m \u001b[0;34m\"__main__\"\u001b[0m\u001b[0;34m:\u001b[0m\u001b[0;34m\u001b[0m\u001b[0;34m\u001b[0m\u001b[0m\n\u001b[0;32m---> 70\u001b[0;31m     \u001b[0mroot\u001b[0m \u001b[0;34m=\u001b[0m \u001b[0mtk\u001b[0m\u001b[0;34m.\u001b[0m\u001b[0mTk\u001b[0m\u001b[0;34m(\u001b[0m\u001b[0;34m)\u001b[0m\u001b[0;34m\u001b[0m\u001b[0;34m\u001b[0m\u001b[0m\n\u001b[0m\u001b[1;32m     71\u001b[0m     \u001b[0mapp\u001b[0m \u001b[0;34m=\u001b[0m \u001b[0mPiedraPapeloTijera\u001b[0m\u001b[0;34m(\u001b[0m\u001b[0mroot\u001b[0m\u001b[0;34m)\u001b[0m\u001b[0;34m\u001b[0m\u001b[0;34m\u001b[0m\u001b[0m\n\u001b[1;32m     72\u001b[0m     \u001b[0mroot\u001b[0m\u001b[0;34m.\u001b[0m\u001b[0mmainloop\u001b[0m\u001b[0;34m(\u001b[0m\u001b[0;34m)\u001b[0m\u001b[0;34m\u001b[0m\u001b[0;34m\u001b[0m\u001b[0m\n",
            "\u001b[0;32m/usr/lib/python3.12/tkinter/__init__.py\u001b[0m in \u001b[0;36m__init__\u001b[0;34m(self, screenName, baseName, className, useTk, sync, use)\u001b[0m\n\u001b[1;32m   2347\u001b[0m                 \u001b[0mbaseName\u001b[0m \u001b[0;34m=\u001b[0m \u001b[0mbaseName\u001b[0m \u001b[0;34m+\u001b[0m \u001b[0mext\u001b[0m\u001b[0;34m\u001b[0m\u001b[0;34m\u001b[0m\u001b[0m\n\u001b[1;32m   2348\u001b[0m         \u001b[0minteractive\u001b[0m \u001b[0;34m=\u001b[0m \u001b[0;32mFalse\u001b[0m\u001b[0;34m\u001b[0m\u001b[0;34m\u001b[0m\u001b[0m\n\u001b[0;32m-> 2349\u001b[0;31m         \u001b[0mself\u001b[0m\u001b[0;34m.\u001b[0m\u001b[0mtk\u001b[0m \u001b[0;34m=\u001b[0m \u001b[0m_tkinter\u001b[0m\u001b[0;34m.\u001b[0m\u001b[0mcreate\u001b[0m\u001b[0;34m(\u001b[0m\u001b[0mscreenName\u001b[0m\u001b[0;34m,\u001b[0m \u001b[0mbaseName\u001b[0m\u001b[0;34m,\u001b[0m \u001b[0mclassName\u001b[0m\u001b[0;34m,\u001b[0m \u001b[0minteractive\u001b[0m\u001b[0;34m,\u001b[0m \u001b[0mwantobjects\u001b[0m\u001b[0;34m,\u001b[0m \u001b[0museTk\u001b[0m\u001b[0;34m,\u001b[0m \u001b[0msync\u001b[0m\u001b[0;34m,\u001b[0m \u001b[0muse\u001b[0m\u001b[0;34m)\u001b[0m\u001b[0;34m\u001b[0m\u001b[0;34m\u001b[0m\u001b[0m\n\u001b[0m\u001b[1;32m   2350\u001b[0m         \u001b[0;32mif\u001b[0m \u001b[0m_debug\u001b[0m\u001b[0;34m:\u001b[0m\u001b[0;34m\u001b[0m\u001b[0;34m\u001b[0m\u001b[0m\n\u001b[1;32m   2351\u001b[0m             \u001b[0mself\u001b[0m\u001b[0;34m.\u001b[0m\u001b[0mtk\u001b[0m\u001b[0;34m.\u001b[0m\u001b[0msettrace\u001b[0m\u001b[0;34m(\u001b[0m\u001b[0m_print_command\u001b[0m\u001b[0;34m)\u001b[0m\u001b[0;34m\u001b[0m\u001b[0;34m\u001b[0m\u001b[0m\n",
            "\u001b[0;31mTclError\u001b[0m: no display name and no $DISPLAY environment variable"
          ]
        }
      ],
      "source": [
        "import tkinter as tk\n",
        "from tkinter import messagebox\n",
        "import random\n",
        "class PiedraPapeloTijera:\n",
        "    def __init__(self, root):\n",
        "        self.ventana_juego(root)\n",
        "    def ventana_juego(self, root):\n",
        "        self.root = root\n",
        "        self.root.title(\"Piedra, Papel o Tijera\")\n",
        "        self.root.geometry(\"400x350\")\n",
        "        self.root.resizable(False, False)\n",
        "        self.choices = [\"Piedra\", \"Papel\", \"Tijera\"]\n",
        "        self.elección_del_usuario = None\n",
        "        self.bot = None\n",
        "        ## Contador\n",
        "        self.ganados = 0\n",
        "        self.perdidos = 0\n",
        "        self.empates = 0\n",
        "        ## q hacer\n",
        "        self.label = tk.Label(root, text=\"Elige tu opción:\", font=(\"Arial\", 14))\n",
        "        self.label.pack(pady=20)\n",
        "        ## btones\n",
        "        self.botones = tk.Frame(root)\n",
        "        self.botones.pack()\n",
        "        self.rock_button = tk.Button(self.botones, text=\"Piedra\", width=10, command=lambda: self.jugar(\"Piedra\"))\n",
        "        self.rock_button.pack(side=tk.LEFT, padx=10)\n",
        "        self.boton_papel = tk.Button(self.botones, text=\"Papel\", width=10, command=lambda: self.jugar(\"Papel\"))\n",
        "        self.boton_papel.pack(side=tk.LEFT, padx=10)\n",
        "        self.tijeras_boton = tk.Button(self.botones, text=\"Tijera\", width=10, command=lambda: self.jugar(\"Tijera\"))\n",
        "        self.tijeras_boton.pack(side=tk.LEFT, padx=10)\n",
        "        # resutlado\n",
        "        self.resultado = tk.Label(root, text=\"\", font=(\"Arial\", 12))\n",
        "        self.resultado.pack(pady=20)\n",
        "        # marcador\n",
        "        self.marcador = tk.Label(root, text=\"Victorias: 0 | Derrotas: 0 | Empates: 0\", font=(\"Arial\", 12))\n",
        "        self.marcador.pack(pady=10)\n",
        "    def jugar(self, elección_del_usuario):\n",
        "        self.elección_del_usuario = elección_del_usuario\n",
        "        self.bot = random.choice(self.choices)\n",
        "        result = self.quien_gana()\n",
        "        # quien perdio o gano\n",
        "        if result == \"Ganaste\":\n",
        "            self.resultado.config(fg=\"green\")\n",
        "            self.ganados += 1\n",
        "        elif result == \"Perdiste\":\n",
        "            self.resultado.config(fg=\"red\")\n",
        "            self.perdidos += 1\n",
        "        else:\n",
        "            self.resultado.config(fg=\"gray\")\n",
        "            self.empates += 1\n",
        "        self.resultado.config(\n",
        "            text=f\"elegiste: {self.elección_del_usuario}\\n\"\n",
        "                 f\"bot eligió: {self.bot}\\n\"\n",
        "                 f\"{result}\"\n",
        "        )\n",
        "        # marcador\n",
        "        self.marcador.config(text=f\"Victorias: {self.ganados} | Derrotas: {self.perdidos} | Empates: {self.empates}\")\n",
        "        # ventana para q sepa\n",
        "        messagebox.showinfo(\"Resultado\", result)\n",
        "    def quien_gana(self):\n",
        "        if self.elección_del_usuario == self.bot:\n",
        "            return \"Empate\"\n",
        "        elif (self.elección_del_usuario == \"Piedra\" and self.bot == \"Tijera\") or \\\n",
        "             (self.elección_del_usuario == \"Papel\" and self.bot == \"Piedra\") or \\\n",
        "             (self.elección_del_usuario == \"Tijera\" and self.bot == \"Papel\"):\n",
        "            return \"Ganaste\"\n",
        "        else:\n",
        "            return \"Perdiste\"\n",
        "if __name__ == \"__main__\":\n",
        "    root = tk.Tk()\n",
        "    app = PiedraPapeloTijera(root)\n",
        "    root.mainloop()\n"
      ]
    }
  ]
}