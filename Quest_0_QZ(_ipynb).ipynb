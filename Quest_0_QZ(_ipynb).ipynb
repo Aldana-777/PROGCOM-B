{
  "nbformat": 4,
  "nbformat_minor": 0,
  "metadata": {
    "colab": {
      "provenance": []
    },
    "kernelspec": {
      "name": "python3",
      "display_name": "Python 3"
    },
    "language_info": {
      "name": "python"
    }
  },
  "cells": [
    {
      "cell_type": "markdown",
      "source": [
        "#QUEST 0 (QZ)\n"
      ],
      "metadata": {
        "id": "OYtMNanMnDJ_"
      }
    },
    {
      "cell_type": "code",
      "execution_count": null,
      "metadata": {
        "id": "YYFHwqlYlvkr"
      },
      "outputs": [],
      "source": [
        "import java.util.*;\n",
        "import java.lang.*;\n",
        "import java.io.*;\n",
        "\n",
        "// The main method must be in a class named \"Main\".\n",
        "    class Main {\n",
        "    public static void main(String[] args) {\n",
        "\n",
        "        String[] flor = {\"amapola\", \"rosa\", \"tulipán\", \"orquídea\"};\n",
        "\n",
        "        int flores = 7;\n",
        "\n",
        "        for (String f : flor) {\n",
        "            System.out.println(f);\n",
        "        }\n",
        "    }\n",
        "}\n"
      ]
    }
  ]
}