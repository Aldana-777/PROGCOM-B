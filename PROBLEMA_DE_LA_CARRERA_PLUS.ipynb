{
  "nbformat": 4,
  "nbformat_minor": 0,
  "metadata": {
    "colab": {
      "provenance": [],
      "authorship_tag": "ABX9TyPWdPptTImk2p77oz5zyOnl",
      "include_colab_link": true
    },
    "kernelspec": {
      "name": "python3",
      "display_name": "Python 3"
    },
    "language_info": {
      "name": "python"
    }
  },
  "cells": [
    {
      "cell_type": "markdown",
      "metadata": {
        "id": "view-in-github",
        "colab_type": "text"
      },
      "source": [
        "<a href=\"https://colab.research.google.com/github/Aldana-777/PROGCOM-B/blob/main/PROBLEMA_DE_LA_CARRERA_PLUS.ipynb\" target=\"_parent\"><img src=\"https://colab.research.google.com/assets/colab-badge.svg\" alt=\"Open In Colab\"/></a>"
      ]
    },
    {
      "cell_type": "markdown",
      "source": [
        "PROBLEMA DE A CARRERA MEJORADA"
      ],
      "metadata": {
        "id": "jVfEkniJMqsY"
      }
    },
    {
      "cell_type": "code",
      "execution_count": null,
      "metadata": {
        "id": "2qCnHIMWMpYZ"
      },
      "outputs": [],
      "source": [
        "##CALCULADORA ARITMETICA\n",
        "def sumar(a, b):\n",
        "    resultado = a+b\n",
        "    return resultado #Para que retorne\n",
        "\n",
        "def restar():\n",
        "    resultado=numeroA-numeroB\n",
        "    return resultado\n",
        "\n",
        "def multiplicar(a,b):\n",
        "    resultado=a*b\n",
        "    print(\"El resultado es\",resultado)\n",
        "\n",
        "def dividir(a,b):\n",
        "    resultado=a/b\n",
        "    print(\"El resultado es\",resultado)\n",
        "\n",
        "#Declarar No se necesita tipificar\n",
        "numeroA=0\n",
        "numeroB=0\n",
        "opcion=0\n",
        "resultado=0\n",
        "\n",
        "while True:\n",
        "#solicitar, capturo, parceo y guardo\n",
        "    numeroA=float(input(\"Porfavor ingrese el primer numero:\"))\n",
        "    numeroB=float(input(\"Porfavor ingrese otro numero:\"))\n",
        "    opcion=int(input(\"Elija la operacion\"))\n",
        "    match opcion:\n",
        "    case 1:\n",
        "        print(\"El resultado es\",sumar(numeroA,numeroB))\n",
        "    case 2:\n",
        "        print(\"El resultado es\",restar())\n",
        "    case 3:\n",
        "        multiplicar(numeroA,numeroB)\n",
        "    case 4:\n",
        "        while True:\n",
        "            if numeroB !=0:\n",
        "                dividir(numeroA,numeroB)\n",
        "                break\n",
        "            else:\n",
        "                print (\"El denominador no puede ser 0 seleccione otro numero\")\n",
        "                numeroB=float(input(\"Porfavor ingrese el primer numero\"))\n",
        "    ##el case 5 reemplaza el default que es _\n",
        "    case _:\n",
        "        print(\"Por favor digite una opcion valida\")\n",
        "    repetir=int(input(\"Por favor ingrese 1 si desea continuar o 0 si quiere \"))\n",
        "    if repetir==0:\n",
        "    break"
      ]
    }
  ]
}