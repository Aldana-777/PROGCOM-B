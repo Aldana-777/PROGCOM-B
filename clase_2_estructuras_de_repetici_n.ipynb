{
  "nbformat": 4,
  "nbformat_minor": 0,
  "metadata": {
    "colab": {
      "provenance": []
    },
    "kernelspec": {
      "name": "python3",
      "display_name": "Python 3"
    },
    "language_info": {
      "name": "python"
    }
  },
  "cells": [
    {
      "cell_type": "markdown",
      "source": [],
      "metadata": {
        "id": "cqa5T9uLv5Mx"
      }
    },
    {
      "cell_type": "markdown",
      "source": [
        "#Estructuras de repetición\n",
        "se emplean cuando se desea repetir una parte del código, dada una condición"
      ],
      "metadata": {
        "id": "WJEvlZVnlbrR"
      }
    },
    {
      "cell_type": "markdown",
      "source": [
        "##Listas\n",
        "*Son texto en negrita un conjunto de objetos, **indexado** (Todos los elementos listados están numerados) , separado por comas, y encerrado entre [].\n",
        "*Todos los elementos dentro de una lista, se empiezan a contar desde 0.\n",
        "###Creación de listas\n",
        "* Forma general: lista = []\n",
        "* Forma manual: animales = [\"gato\", \"perro\", \"zorro\", \"oso\"]\n",
        "* por conversión: número = list(range(10))\n",
        "* Son objetos"
      ],
      "metadata": {
        "id": "U4kkrT2iv6_4"
      }
    },
    {
      "cell_type": "code",
      "source": [
        "lista = []"
      ],
      "metadata": {
        "id": "bIAi7hoGxObg"
      },
      "execution_count": null,
      "outputs": []
    },
    {
      "cell_type": "code",
      "source": [
        "lista = list(range)"
      ],
      "metadata": {
        "id": "XxFBift1PjS3"
      },
      "execution_count": null,
      "outputs": []
    },
    {
      "cell_type": "code",
      "source": [
        "zorro = [1,2,3,4]\n",
        "animales =  [\"gato\", \"perro\", zorro, \"oso\"]\n",
        "animales"
      ],
      "metadata": {
        "colab": {
          "base_uri": "https://localhost:8080/"
        },
        "id": "fuzaEFqAxxTn",
        "outputId": "c5149854-11b6-4d62-bb2d-318d1fb2b62c"
      },
      "execution_count": null,
      "outputs": [
        {
          "output_type": "execute_result",
          "data": {
            "text/plain": [
              "['gato', 'perro', [1, 2, 3, 4], 'oso']"
            ]
          },
          "metadata": {},
          "execution_count": 10
        }
      ]
    },
    {
      "cell_type": "code",
      "source": [
        "type(zorro)"
      ],
      "metadata": {
        "colab": {
          "base_uri": "https://localhost:8080/"
        },
        "id": "Cp2xdXHeyBy3",
        "outputId": "38043919-3f52-4118-c980-23cb3aa9af00"
      },
      "execution_count": null,
      "outputs": [
        {
          "output_type": "execute_result",
          "data": {
            "text/plain": [
              "list"
            ]
          },
          "metadata": {},
          "execution_count": 14
        }
      ]
    },
    {
      "cell_type": "code",
      "source": [
        "número = list(range(10))\n",
        "número"
      ],
      "metadata": {
        "colab": {
          "base_uri": "https://localhost:8080/"
        },
        "id": "Xif3XYPiy5h_",
        "outputId": "7a58d6ab-e61d-474c-cec9-a5c9ca29ce74"
      },
      "execution_count": null,
      "outputs": [
        {
          "output_type": "execute_result",
          "data": {
            "text/plain": [
              "[0, 1, 2, 3, 4, 5, 6, 7, 8, 9]"
            ]
          },
          "metadata": {},
          "execution_count": 15
        }
      ]
    },
    {
      "cell_type": "code",
      "source": [
        "type(range(10))"
      ],
      "metadata": {
        "colab": {
          "base_uri": "https://localhost:8080/"
        },
        "id": "NISCcgtFzLLu",
        "outputId": "453907f9-7132-4998-eddf-5e7c3df97f90"
      },
      "execution_count": null,
      "outputs": [
        {
          "output_type": "execute_result",
          "data": {
            "text/plain": [
              "range"
            ]
          },
          "metadata": {},
          "execution_count": 13
        }
      ]
    },
    {
      "cell_type": "markdown",
      "source": [
        "##Estructura para - (for)\n",
        "\n",
        "se usa cuando:\n",
        "* se sabe **cuantas veces** se repite una acción.\n",
        "* Está compuesta por un contador y una condición.\n",
        "* **contador**: Identifica cuantas veces se va a repetir el bucle y con qué frecuencia.\n",
        "* **condición**: Evalua cuando se detiene.\n",
        "\n",
        "Por definición:\n",
        "\n",
        "\n",
        "\n",
        "```\n",
        "for variable in range (vi, vf+1, paso): aqui se repite parte del código.\n",
        "```\n",
        "Donde\n",
        "1. vi: condición inicial. Donde arranco a contar.\n",
        "2. vf+1: condición final. Donde dejo de contar +1\n",
        "3. paso: frecuencia de conteo\n",
        "\n",
        "for para recorrido de listas flor = [\"amapola\", \"rosa\", \"tulipán\", \"orquidea\"]\n",
        "\n",
        "* El para va a iterar tantas veces como el elemento tenga la lista\n",
        "* La variable dentro del para, toma como valor, cada elemento de la lista\n",
        "\n",
        "```\n",
        "for variable in lista:\n",
        "variable\n",
        "```\n",
        "\n",
        "\n"
      ],
      "metadata": {
        "id": "ktFBoFwtlnSo"
      }
    },
    {
      "cell_type": "code",
      "source": [
        "#Creando una lista de nombre flor\n",
        "flor = [\"amapola\", \"rosa\", \"tulipán\", \"orquidea\"]\n",
        "for i in flor:\n",
        "  print(i)"
      ],
      "metadata": {
        "colab": {
          "base_uri": "https://localhost:8080/"
        },
        "id": "nZ9dlcGO0pBW",
        "outputId": "05024796-aff0-46bc-8b4f-2c2f926c5ff2"
      },
      "execution_count": null,
      "outputs": [
        {
          "output_type": "stream",
          "name": "stdout",
          "text": [
            "amapola\n",
            "rosa\n",
            "tulipán\n",
            "orquidea\n"
          ]
        }
      ]
    },
    {
      "cell_type": "code",
      "source": [
        "flor = [\"amapola\", \"rosa\", \"tulipán\", \"orquidea\"]\n",
        "flores = 7\n",
        "for flores in flor:\n",
        "  print(flores)\n",
        "  if flores == \"tulipán\" :\n",
        "    break #rompe/para la interación"
      ],
      "metadata": {
        "colab": {
          "base_uri": "https://localhost:8080/"
        },
        "id": "yZVR2gIP17ME",
        "outputId": "cd533050-b41d-4a60-b166-3526210e2fe9"
      },
      "execution_count": null,
      "outputs": [
        {
          "output_type": "stream",
          "name": "stdout",
          "text": [
            "amapola\n",
            "rosa\n",
            "tulipán\n"
          ]
        }
      ]
    },
    {
      "cell_type": "code",
      "source": [
        "name = []\n",
        "for nombres in range (5):\n",
        "  name. append(input(\"ingrese su nombre \"))"
      ],
      "metadata": {
        "colab": {
          "base_uri": "https://localhost:8080/"
        },
        "id": "v8zRqM58QqB2",
        "outputId": "b965600c-f776-41c1-f58e-319d0dcf5edd"
      },
      "execution_count": null,
      "outputs": [
        {
          "name": "stdout",
          "output_type": "stream",
          "text": [
            "ingrese su nombre 1\n",
            "ingrese su nombre 2\n",
            "ingrese su nombre 3\n",
            "ingrese su nombre 4\n",
            "ingrese su nombre 5\n"
          ]
        }
      ]
    },
    {
      "cell_type": "code",
      "source": [
        "name"
      ],
      "metadata": {
        "colab": {
          "base_uri": "https://localhost:8080/"
        },
        "id": "jtYrK9Z4Rwh9",
        "outputId": "c9827cfc-6544-4a98-8a77-ae12708717da"
      },
      "execution_count": null,
      "outputs": [
        {
          "output_type": "execute_result",
          "data": {
            "text/plain": [
              "['1', '2', '3', '4', '5']"
            ]
          },
          "metadata": {},
          "execution_count": 2
        }
      ]
    },
    {
      "cell_type": "markdown",
      "source": [
        "##Estructura while\n",
        "* Se emplea cuando **NO SE SABE** cuantas veces se debe repetir una acción, pero si se conoce su condición de parada (CP).\n",
        "* cOndición inicial: Donde arranca el ciclo\n",
        "* Condición final (parada): Que indica donde se detiene el ciclo\n",
        "* Modificador de condición inicial **importante**\n",
        "\n",
        "Estructura general del mientras (WHILE)\n",
        "\n",
        "\n",
        "\n",
        "```\n",
        "Condición inicial\n",
        "while (donidción==condición final):\n",
        "  modificador de condición inicial\n",
        "```\n",
        "Modificadores de condición inicial\n",
        "* Bandera: Son booleanos (se vuelven V o F)\n",
        "* Son preguntas (\"Desea continuar Si o No\")\n",
        "* Son contadores o acumuladores\n"
      ],
      "metadata": {
        "id": "hyV5CAPF2XSk"
      }
    },
    {
      "cell_type": "markdown",
      "source": [
        "##PRUEBA DIAGNOSTICA (FOR PARTE 2)\n",
        "**1\tEscribe un programa que imprima los números del 1 al 10.**"
      ],
      "metadata": {
        "id": "bg_0e2ZETjaU"
      }
    },
    {
      "cell_type": "code",
      "source": [
        "numeros = []\n",
        "for numeros in range(1,11):\n",
        "  print(numeros)"
      ],
      "metadata": {
        "colab": {
          "base_uri": "https://localhost:8080/"
        },
        "id": "I2rsb3NvUSFj",
        "outputId": "bcfbce0e-fc9c-42be-e29f-f35ca569d91c"
      },
      "execution_count": null,
      "outputs": [
        {
          "output_type": "stream",
          "name": "stdout",
          "text": [
            "1\n",
            "2\n",
            "3\n",
            "4\n",
            "5\n",
            "6\n",
            "7\n",
            "8\n",
            "9\n",
            "10\n"
          ]
        }
      ]
    },
    {
      "cell_type": "markdown",
      "source": [
        "**2\tEscribe un programa que sume los números del 1 al 100.**"
      ],
      "metadata": {
        "id": "vBpSVGU0WFRJ"
      }
    },
    {
      "cell_type": "code",
      "source": [
        "suma = 0\n",
        "for numero in range (1,101):\n",
        "  suma+=numero\n",
        "  print(suma)"
      ],
      "metadata": {
        "colab": {
          "base_uri": "https://localhost:8080/"
        },
        "id": "h_X4srHKWApB",
        "outputId": "808a8a8a-266d-41ef-99b0-4dec8b007793"
      },
      "execution_count": null,
      "outputs": [
        {
          "output_type": "stream",
          "name": "stdout",
          "text": [
            "1\n",
            "3\n",
            "6\n",
            "10\n",
            "15\n",
            "21\n",
            "28\n",
            "36\n",
            "45\n",
            "55\n",
            "66\n",
            "78\n",
            "91\n",
            "105\n",
            "120\n",
            "136\n",
            "153\n",
            "171\n",
            "190\n",
            "210\n",
            "231\n",
            "253\n",
            "276\n",
            "300\n",
            "325\n",
            "351\n",
            "378\n",
            "406\n",
            "435\n",
            "465\n",
            "496\n",
            "528\n",
            "561\n",
            "595\n",
            "630\n",
            "666\n",
            "703\n",
            "741\n",
            "780\n",
            "820\n",
            "861\n",
            "903\n",
            "946\n",
            "990\n",
            "1035\n",
            "1081\n",
            "1128\n",
            "1176\n",
            "1225\n",
            "1275\n",
            "1326\n",
            "1378\n",
            "1431\n",
            "1485\n",
            "1540\n",
            "1596\n",
            "1653\n",
            "1711\n",
            "1770\n",
            "1830\n",
            "1891\n",
            "1953\n",
            "2016\n",
            "2080\n",
            "2145\n",
            "2211\n",
            "2278\n",
            "2346\n",
            "2415\n",
            "2485\n",
            "2556\n",
            "2628\n",
            "2701\n",
            "2775\n",
            "2850\n",
            "2926\n",
            "3003\n",
            "3081\n",
            "3160\n",
            "3240\n",
            "3321\n",
            "3403\n",
            "3486\n",
            "3570\n",
            "3655\n",
            "3741\n",
            "3828\n",
            "3916\n",
            "4005\n",
            "4095\n",
            "4186\n",
            "4278\n",
            "4371\n",
            "4465\n",
            "4560\n",
            "4656\n",
            "4753\n",
            "4851\n",
            "4950\n",
            "5050\n"
          ]
        }
      ]
    },
    {
      "cell_type": "markdown",
      "source": [
        "**3\tEscribe un programa que imprima los múltiplos de 3 entre 1 y 30.**"
      ],
      "metadata": {
        "id": "_MnosrP3bdkV"
      }
    },
    {
      "cell_type": "code",
      "source": [
        "for numero in range(1,31):\n",
        "  if numero %3 == 0 :\n",
        "    print(numero)"
      ],
      "metadata": {
        "colab": {
          "base_uri": "https://localhost:8080/"
        },
        "id": "PYbv4VdsbugV",
        "outputId": "5bb6e939-1114-46ce-b3ed-d4955a1968ba"
      },
      "execution_count": null,
      "outputs": [
        {
          "output_type": "stream",
          "name": "stdout",
          "text": [
            "3\n",
            "6\n",
            "9\n",
            "12\n",
            "15\n",
            "18\n",
            "21\n",
            "24\n",
            "27\n",
            "30\n"
          ]
        }
      ]
    },
    {
      "cell_type": "markdown",
      "source": [
        "**4\tEscribe un programa que lea un número e imprima su tabla de multiplicar del 1 al 10.**"
      ],
      "metadata": {
        "id": "fKHc_KUBeud7"
      }
    },
    {
      "cell_type": "code",
      "source": [
        "numeros = range(1,11)\n",
        "numero = input(int\"Digite un número \")\n",
        "for numeros in range(1,11):\n",
        "  if numeros %numero == 0 :\n",
        "    print(numeros)"
      ],
      "metadata": {
        "colab": {
          "base_uri": "https://localhost:8080/",
          "height": 106
        },
        "id": "NzpW45jRe1_L",
        "outputId": "0b569058-3421-42b8-f4c7-208365a4f20e"
      },
      "execution_count": null,
      "outputs": [
        {
          "output_type": "error",
          "ename": "SyntaxError",
          "evalue": "invalid syntax (ipython-input-2346854072.py, line 2)",
          "traceback": [
            "\u001b[0;36m  File \u001b[0;32m\"/tmp/ipython-input-2346854072.py\"\u001b[0;36m, line \u001b[0;32m2\u001b[0m\n\u001b[0;31m    numero = (inputint\"Digite un número \")\u001b[0m\n\u001b[0m                      ^\u001b[0m\n\u001b[0;31mSyntaxError\u001b[0m\u001b[0;31m:\u001b[0m invalid syntax\n"
          ]
        }
      ]
    },
    {
      "cell_type": "markdown",
      "source": [
        "##PRUEBA DIAGNOSTICA (FOR Y LISTA PARTE 2)\n",
        "**1\tEscribe un programa que imprima los números del 1 al 10.**\n"
      ],
      "metadata": {
        "id": "2-Ed9LVeUT5j"
      }
    },
    {
      "cell_type": "code",
      "source": [
        "num = [1, 2, 3, 4, 5, 6, 7, 8, 9, 10]\n",
        "for numero in num :\n",
        "  print(numero)"
      ],
      "metadata": {
        "colab": {
          "base_uri": "https://localhost:8080/"
        },
        "id": "BkAPOpFjV9Zq",
        "outputId": "3e503387-7531-4580-a7ca-334763ab5036"
      },
      "execution_count": null,
      "outputs": [
        {
          "output_type": "stream",
          "name": "stdout",
          "text": [
            "1\n",
            "2\n",
            "3\n",
            "4\n",
            "5\n",
            "6\n",
            "7\n",
            "8\n",
            "9\n",
            "10\n"
          ]
        }
      ]
    },
    {
      "cell_type": "markdown",
      "source": [
        "**2\tEscribe un programa que sume los números del 1 al 100.**"
      ],
      "metadata": {
        "id": "50-hvQqXYmoI"
      }
    },
    {
      "cell_type": "code",
      "source": [
        "suma = 0\n",
        "numero = list(range(101))\n",
        "for numero in numero :\n",
        "  suma+=numero\n",
        "  print(suma)"
      ],
      "metadata": {
        "colab": {
          "base_uri": "https://localhost:8080/"
        },
        "id": "09AyM3qDYvff",
        "outputId": "5e9d1ad2-5442-4178-ac58-e1a5fe832030"
      },
      "execution_count": null,
      "outputs": [
        {
          "output_type": "stream",
          "name": "stdout",
          "text": [
            "0\n",
            "1\n",
            "3\n",
            "6\n",
            "10\n",
            "15\n",
            "21\n",
            "28\n",
            "36\n",
            "45\n",
            "55\n",
            "66\n",
            "78\n",
            "91\n",
            "105\n",
            "120\n",
            "136\n",
            "153\n",
            "171\n",
            "190\n",
            "210\n",
            "231\n",
            "253\n",
            "276\n",
            "300\n",
            "325\n",
            "351\n",
            "378\n",
            "406\n",
            "435\n",
            "465\n",
            "496\n",
            "528\n",
            "561\n",
            "595\n",
            "630\n",
            "666\n",
            "703\n",
            "741\n",
            "780\n",
            "820\n",
            "861\n",
            "903\n",
            "946\n",
            "990\n",
            "1035\n",
            "1081\n",
            "1128\n",
            "1176\n",
            "1225\n",
            "1275\n",
            "1326\n",
            "1378\n",
            "1431\n",
            "1485\n",
            "1540\n",
            "1596\n",
            "1653\n",
            "1711\n",
            "1770\n",
            "1830\n",
            "1891\n",
            "1953\n",
            "2016\n",
            "2080\n",
            "2145\n",
            "2211\n",
            "2278\n",
            "2346\n",
            "2415\n",
            "2485\n",
            "2556\n",
            "2628\n",
            "2701\n",
            "2775\n",
            "2850\n",
            "2926\n",
            "3003\n",
            "3081\n",
            "3160\n",
            "3240\n",
            "3321\n",
            "3403\n",
            "3486\n",
            "3570\n",
            "3655\n",
            "3741\n",
            "3828\n",
            "3916\n",
            "4005\n",
            "4095\n",
            "4186\n",
            "4278\n",
            "4371\n",
            "4465\n",
            "4560\n",
            "4656\n",
            "4753\n",
            "4851\n",
            "4950\n",
            "5050\n"
          ]
        }
      ]
    },
    {
      "cell_type": "markdown",
      "source": [
        "**3 Escribe un programa que imprima los múltiplos de 3 entre 1 y 30.**"
      ],
      "metadata": {
        "id": "L_sjEiJzdVaM"
      }
    },
    {
      "cell_type": "code",
      "source": [
        "multiplo=list(range(31))\n",
        "for multiplo in multiplo:\n",
        "  if multiplo %3 ==0 :\n",
        "    print(multiplo)"
      ],
      "metadata": {
        "colab": {
          "base_uri": "https://localhost:8080/"
        },
        "id": "IXlKvBgZdb-U",
        "outputId": "678aa551-83a3-41e7-81a6-759d4de3c42d"
      },
      "execution_count": null,
      "outputs": [
        {
          "output_type": "stream",
          "name": "stdout",
          "text": [
            "0\n",
            "3\n",
            "6\n",
            "9\n",
            "12\n",
            "15\n",
            "18\n",
            "21\n",
            "24\n",
            "27\n",
            "30\n"
          ]
        }
      ]
    }
  ]
}