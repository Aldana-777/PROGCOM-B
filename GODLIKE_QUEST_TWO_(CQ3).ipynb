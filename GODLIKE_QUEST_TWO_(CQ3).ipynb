{
  "nbformat": 4,
  "nbformat_minor": 0,
  "metadata": {
    "colab": {
      "provenance": [],
      "authorship_tag": "ABX9TyNPOmuLNV3GPj/9Hoo4Ag1Z",
      "include_colab_link": true
    },
    "kernelspec": {
      "name": "python3",
      "display_name": "Python 3"
    },
    "language_info": {
      "name": "python"
    }
  },
  "cells": [
    {
      "cell_type": "markdown",
      "metadata": {
        "id": "view-in-github",
        "colab_type": "text"
      },
      "source": [
        "<a href=\"https://colab.research.google.com/github/Aldana-777/PROGCOM-B/blob/main/GODLIKE_QUEST_TWO_(CQ3).ipynb\" target=\"_parent\"><img src=\"https://colab.research.google.com/assets/colab-badge.svg\" alt=\"Open In Colab\"/></a>"
      ]
    },
    {
      "cell_type": "code",
      "execution_count": 8,
      "metadata": {
        "colab": {
          "base_uri": "https://localhost:8080/"
        },
        "id": "LgLXRCkhgrWa",
        "outputId": "dbb111ce-d75c-482f-d5d3-7d1d60df1789"
      },
      "outputs": [
        {
          "output_type": "stream",
          "name": "stdout",
          "text": [
            "Empresa             Ticker    P/E       P/B       ROE (%)\n",
            "------------------------------------------------------------\n",
            "Apple Inc.          AAPL      26.92     38.89     28.00\n",
            "Microsoft Corp.     MSFT      34.78     20.65     35.00\n",
            "Alphabet Inc.       GOOGL     22.88     7.42      17.00\n",
            "El más rentable es Microsoft Corp.\n"
          ]
        }
      ],
      "source": [
        "# Datos precargados de empresas del NASDAQ (ejemplo)\n",
        "# Puedes cambiar estos valores por los reales si los conoces\n",
        "\n",
        "empresas = [\n",
        "    {\n",
        "        \"nombre\": \"Apple Inc.\",\n",
        "        \"ticker\": \"AAPL\",\n",
        "        \"precio_accion\": 175.00,       # Precio actual\n",
        "        \"ganancias_por_accion\": 6.50,  # EPS (Earnings Per Share)\n",
        "        \"valor_contable_accion\": 4.50, # Book value per share\n",
        "        \"roe\": 0.28                    # ROE (return on equity)\n",
        "    },\n",
        "    {\n",
        "        \"nombre\": \"Microsoft Corp.\",\n",
        "        \"ticker\": \"MSFT\",\n",
        "        \"precio_accion\": 320.00,\n",
        "        \"ganancias_por_accion\": 9.20,\n",
        "        \"valor_contable_accion\": 15.50,\n",
        "        \"roe\": 0.35\n",
        "    },\n",
        "    {\n",
        "        \"nombre\": \"Alphabet Inc.\",\n",
        "        \"ticker\": \"GOOGL\",\n",
        "        \"precio_accion\": 135.00,\n",
        "        \"ganancias_por_accion\": 5.90,\n",
        "        \"valor_contable_accion\": 18.20,\n",
        "        \"roe\": 0.17\n",
        "    }\n",
        "]\n",
        "\n",
        "# Función para calcular métricas\n",
        "def calcular_valoracion(empresa):\n",
        "    pe_ratio = empresa[\"precio_accion\"] / empresa[\"ganancias_por_accion\"]\n",
        "    pb_ratio = empresa[\"precio_accion\"] / empresa[\"valor_contable_accion\"]\n",
        "    return pe_ratio, pb_ratio\n",
        "\n",
        "# Mostrar resultados\n",
        "print(f\"{'Empresa':<20}{'Ticker':<10}{'P/E':<10}{'P/B':<10}{'ROE (%)'}\")\n",
        "print(\"-\" * 60)\n",
        "\n",
        "for e in empresas:\n",
        "    pe, pb = calcular_valoracion(e)\n",
        "    roe_pct = e[\"roe\"] * 100\n",
        "    print(f\"{e['nombre']:<20}{e['ticker']:<10}{pe:<10.2f}{pb:<10.2f}{roe_pct:.2f}\")\n",
        "\n",
        "print(\"El más rentable es Microsoft Corp.\")"
      ]
    }
  ]
}