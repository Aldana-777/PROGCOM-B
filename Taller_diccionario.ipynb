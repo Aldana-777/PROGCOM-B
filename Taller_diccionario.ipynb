{
  "nbformat": 4,
  "nbformat_minor": 0,
  "metadata": {
    "colab": {
      "provenance": [],
      "authorship_tag": "ABX9TyO+LF99ozvX/YPtV1zuY27z",
      "include_colab_link": true
    },
    "kernelspec": {
      "name": "python3",
      "display_name": "Python 3"
    },
    "language_info": {
      "name": "python"
    }
  },
  "cells": [
    {
      "cell_type": "markdown",
      "metadata": {
        "id": "view-in-github",
        "colab_type": "text"
      },
      "source": [
        "<a href=\"https://colab.research.google.com/github/Aldana-777/PROGCOM-B/blob/main/Taller_diccionario.ipynb\" target=\"_parent\"><img src=\"https://colab.research.google.com/assets/colab-badge.svg\" alt=\"Open In Colab\"/></a>"
      ]
    },
    {
      "cell_type": "markdown",
      "source": [
        "#EJERCICIOS PRUEBA DIAGNÓSTICA"
      ],
      "metadata": {
        "id": "cI9xDbjb3lD7"
      }
    },
    {
      "cell_type": "markdown",
      "source": [
        "17) Crea una función que reciba un diccionario y retorne el nombre del estudiante con mayor nota."
      ],
      "metadata": {
        "id": "cgRHNl-hGhnm"
      }
    },
    {
      "cell_type": "code",
      "source": [
        "notas = {\"Aldana\": 3.5, \"Harry\": 4.7, \"Tomas\": 4.2, \"Camilo\": 2.9}\n",
        "def estudiante_mayor_nota(notas):\n",
        "    mayor = [nombre for nota, nombre in [(nota, nombre) for nombre, nota in notas.items()] if nota == max(notas.values())][0]\n",
        "print(\"El estudiante con mayor nota es:\", \"mayor\")"
      ],
      "metadata": {
        "colab": {
          "base_uri": "https://localhost:8080/"
        },
        "id": "48yPshs0Gn8-",
        "outputId": "987e4cb9-dc4a-48a7-c2a1-aeaa8873a61c"
      },
      "execution_count": 75,
      "outputs": [
        {
          "output_type": "stream",
          "name": "stdout",
          "text": [
            "El estudiante con mayor nota es: mayor\n"
          ]
        }
      ]
    },
    {
      "cell_type": "markdown",
      "source": [
        "18) Crea una función que reciba un diccionario de productos y retorne los productos con precios\n",
        "mayores a un valor dado."
      ],
      "metadata": {
        "id": "kjJUYdW0GrJN"
      }
    },
    {
      "cell_type": "code",
      "source": [
        "productos = {\"pan\": 2000, \"leche\": 3500, \"queso\": 8000, \"arroz\": 4500}\n",
        "valor = 3000\n",
        "def productos_mayores(productos,valor):\n",
        "    mayores = [producto for producto, precio in productos.items() if precio > valor]\n",
        "\n",
        "print(\"Productos mayores a\", valor, \":\", \"mayores\")"
      ],
      "metadata": {
        "colab": {
          "base_uri": "https://localhost:8080/"
        },
        "id": "_nEyWxyUG-3W",
        "outputId": "f9ac643f-2e3a-4041-9158-c53b9dbbd953"
      },
      "execution_count": 77,
      "outputs": [
        {
          "output_type": "stream",
          "name": "stdout",
          "text": [
            "Productos mayores a 3000 : mayores\n"
          ]
        }
      ]
    },
    {
      "cell_type": "markdown",
      "source": [
        "19) Crea una función que reciba un diccionario de empleados (clave: nombre, valor: lista de horas\n",
        "trabajadas) y retorne el total de horas por empleado."
      ],
      "metadata": {
        "id": "LIjP5n3U4BYh"
      }
    },
    {
      "cell_type": "code",
      "source": [
        "empleados={\"clave\":[\"12345678\",\"987654321\"],\"nombre\":[\"Juan\",\"Ivan\"],\"valor\":[7000,1000],\"horas_trabajadas\":[7,8]}\n",
        "empleados"
      ],
      "metadata": {
        "colab": {
          "base_uri": "https://localhost:8080/"
        },
        "id": "jkp6-k-98zfm",
        "outputId": "f30baf19-a383-4d9a-d39a-7b2b2360b25b"
      },
      "execution_count": 28,
      "outputs": [
        {
          "output_type": "execute_result",
          "data": {
            "text/plain": [
              "{'clave': ['12345678', '987654321'],\n",
              " 'nombre': ['Juan', 'Ivan'],\n",
              " 'valor': [7000, 1000],\n",
              " 'horas_trabajadas': [7, 8]}"
            ]
          },
          "metadata": {},
          "execution_count": 28
        }
      ]
    },
    {
      "cell_type": "code",
      "source": [
        "def Horas(a):\n",
        "  print(\"¿A qué trabajador quiere verle las horas?\")\n",
        "  for i in range(len(a.get(\"nombre\"))):\n",
        "    print(a[\"nombre\"][i])\n",
        "  rta=input(\"\")\n",
        "  if rta == \"Ivan\":\n",
        "    print(8)\n",
        "  elif rta == \"Juan\":\n",
        "     print(7)\n",
        "  else:\n",
        "    print(\"RESPUESTA INVÁLIDA\")"
      ],
      "metadata": {
        "id": "ZMuel10w9Pr9"
      },
      "execution_count": 60,
      "outputs": []
    },
    {
      "cell_type": "code",
      "source": [
        "Horas(empleados)"
      ],
      "metadata": {
        "colab": {
          "base_uri": "https://localhost:8080/"
        },
        "id": "hh0TWtfIBQ4y",
        "outputId": "365a4c60-1f70-4c45-95d4-d8ae34bf0b60"
      },
      "execution_count": 61,
      "outputs": [
        {
          "output_type": "stream",
          "name": "stdout",
          "text": [
            "¿A qué trabajador quiere verle las horas?\n",
            "Juan\n",
            "Ivan\n",
            "Pedro\n",
            "RESPUESTA INVÁLIDA\n"
          ]
        }
      ]
    },
    {
      "cell_type": "code",
      "source": [
        "empleados[\"nombre\"][0]"
      ],
      "metadata": {
        "colab": {
          "base_uri": "https://localhost:8080/",
          "height": 35
        },
        "id": "FCFrTx4F_G28",
        "outputId": "26828fea-0bb8-4142-f4b6-f1f1b57b3872"
      },
      "execution_count": 30,
      "outputs": [
        {
          "output_type": "execute_result",
          "data": {
            "text/plain": [
              "'Juan'"
            ],
            "application/vnd.google.colaboratory.intrinsic+json": {
              "type": "string"
            }
          },
          "metadata": {},
          "execution_count": 30
        }
      ]
    },
    {
      "cell_type": "code",
      "source": [
        "empleados[\"nombre\"][1]"
      ],
      "metadata": {
        "colab": {
          "base_uri": "https://localhost:8080/",
          "height": 35
        },
        "id": "7Q0OpGgc_RME",
        "outputId": "147c7829-135d-40fc-b805-66594843f2db"
      },
      "execution_count": 31,
      "outputs": [
        {
          "output_type": "execute_result",
          "data": {
            "text/plain": [
              "'Ivan'"
            ],
            "application/vnd.google.colaboratory.intrinsic+json": {
              "type": "string"
            }
          },
          "metadata": {},
          "execution_count": 31
        }
      ]
    },
    {
      "cell_type": "code",
      "source": [
        "for i in range(len(empleados.get(\"nombre\"))):\n",
        "  print(empleados[\"nombre\"][i])"
      ],
      "metadata": {
        "colab": {
          "base_uri": "https://localhost:8080/"
        },
        "id": "gYuFhVfsAomr",
        "outputId": "a0774d0b-a07f-417c-f154-1d62e5708334"
      },
      "execution_count": 44,
      "outputs": [
        {
          "output_type": "stream",
          "name": "stdout",
          "text": [
            "Juan\n",
            "Ivan\n"
          ]
        }
      ]
    },
    {
      "cell_type": "code",
      "source": [
        "len(empleados.get(\"nombre\"))"
      ],
      "metadata": {
        "colab": {
          "base_uri": "https://localhost:8080/"
        },
        "id": "ev-vnHM4AzQj",
        "outputId": "c59d4646-0fe3-4c0d-99ea-104a2e5c7a83"
      },
      "execution_count": 40,
      "outputs": [
        {
          "output_type": "execute_result",
          "data": {
            "text/plain": [
              "2"
            ]
          },
          "metadata": {},
          "execution_count": 40
        }
      ]
    },
    {
      "cell_type": "code",
      "source": [
        "for empleado in empleados.get(\"nombre\"):\n",
        "    print(empleado[\"nombre\"][empleado])"
      ],
      "metadata": {
        "colab": {
          "base_uri": "https://localhost:8080/",
          "height": 159
        },
        "id": "eu-nkoyF_gXE",
        "outputId": "f187f150-9f72-48d0-af52-c5e46e67f412"
      },
      "execution_count": 39,
      "outputs": [
        {
          "output_type": "error",
          "ename": "TypeError",
          "evalue": "string indices must be integers, not 'str'",
          "traceback": [
            "\u001b[0;31m---------------------------------------------------------------------------\u001b[0m",
            "\u001b[0;31mTypeError\u001b[0m                                 Traceback (most recent call last)",
            "\u001b[0;32m/tmp/ipython-input-2647147126.py\u001b[0m in \u001b[0;36m<cell line: 0>\u001b[0;34m()\u001b[0m\n\u001b[1;32m      1\u001b[0m \u001b[0;32mfor\u001b[0m \u001b[0mempleado\u001b[0m \u001b[0;32min\u001b[0m \u001b[0mempleados\u001b[0m\u001b[0;34m.\u001b[0m\u001b[0mget\u001b[0m\u001b[0;34m(\u001b[0m\u001b[0;34m\"nombre\"\u001b[0m\u001b[0;34m)\u001b[0m\u001b[0;34m:\u001b[0m\u001b[0;34m\u001b[0m\u001b[0;34m\u001b[0m\u001b[0m\n\u001b[0;32m----> 2\u001b[0;31m     \u001b[0mprint\u001b[0m\u001b[0;34m(\u001b[0m\u001b[0mempleado\u001b[0m\u001b[0;34m[\u001b[0m\u001b[0;34m\"nombre\"\u001b[0m\u001b[0;34m]\u001b[0m\u001b[0;34m[\u001b[0m\u001b[0mempleado\u001b[0m\u001b[0;34m]\u001b[0m\u001b[0;34m)\u001b[0m\u001b[0;34m\u001b[0m\u001b[0;34m\u001b[0m\u001b[0m\n\u001b[0m",
            "\u001b[0;31mTypeError\u001b[0m: string indices must be integers, not 'str'"
          ]
        }
      ]
    },
    {
      "cell_type": "code",
      "source": [
        "print(empleados.get(\"nombre\"))"
      ],
      "metadata": {
        "colab": {
          "base_uri": "https://localhost:8080/"
        },
        "id": "ZA3gX_tu_wT0",
        "outputId": "ee6d4564-79b9-4840-b54d-12391679b051"
      },
      "execution_count": 36,
      "outputs": [
        {
          "output_type": "stream",
          "name": "stdout",
          "text": [
            "['Juan', 'Ivan']\n"
          ]
        }
      ]
    },
    {
      "cell_type": "markdown",
      "source": [
        "20) Crea una función que reciba un diccionario anidado con datos de estudiantes (nombre = {&#39;nota&#39;: x,\n",
        "&#39;edad&#39;: y}) y retorne el promedio de notas de los mayores de edad."
      ],
      "metadata": {
        "id": "4OY0rOBACtxp"
      }
    },
    {
      "cell_type": "code",
      "source": [
        "Estudiantes = {\"Juan\": {\"nota\": 95, \"edad\": 20},\"Ivan\": {\"nota\": 80, \"edad\": 17},\"Pedro\": {\"nota\": 90, \"edad\": 22},'Ana': {\"nota\": 75, \"edad\": 19},\"Pepito\": {\"nota\": 85, \"edad\": 16}}\n",
        "Estudiantes"
      ],
      "metadata": {
        "colab": {
          "base_uri": "https://localhost:8080/"
        },
        "id": "j8-Q-Xb-DvOp",
        "outputId": "6f624867-59a0-4068-a7a1-28cd538e95de"
      },
      "execution_count": 74,
      "outputs": [
        {
          "output_type": "execute_result",
          "data": {
            "text/plain": [
              "{'Juan': {'nota': 95, 'edad': 20},\n",
              " 'Ivan': {'nota': 80, 'edad': 17},\n",
              " 'Pedro': {'nota': 90, 'edad': 22},\n",
              " 'Ana': {'nota': 75, 'edad': 19},\n",
              " 'Pepito': {'nota': 85, 'edad': 16}}"
            ]
          },
          "metadata": {},
          "execution_count": 74
        }
      ]
    },
    {
      "cell_type": "code",
      "source": [
        "def promedio_mayores(estudiantes):\n",
        "    suma_notas = 0\n",
        "    conteo_mayores = 0\n",
        "\n",
        "    for años in estudiantes.values():\n",
        "        if años['edad'] >= 18:\n",
        "            suma_notas += años['nota']\n",
        "            conteo_mayores += 1\n",
        "\n",
        "    if conteo_mayores > 0:\n",
        "        return suma_notas / conteo_mayores\n",
        "    else:\n",
        "        return 0\n",
        "promedio = promedio_mayores(Estudiantes)\n",
        "print(f\"El promedio de las notas de los estudiantes que son mayores de edad es: {promedio}\")"
      ],
      "metadata": {
        "colab": {
          "base_uri": "https://localhost:8080/"
        },
        "id": "9oG6kD7YDawB",
        "outputId": "b43f9c04-69b0-4adf-a86e-bf311e9571c5"
      },
      "execution_count": 73,
      "outputs": [
        {
          "output_type": "stream",
          "name": "stdout",
          "text": [
            "El promedio de las notas de los estudiantes que son mayores de edad es: 86.66666666666667\n"
          ]
        }
      ]
    }
  ]
}