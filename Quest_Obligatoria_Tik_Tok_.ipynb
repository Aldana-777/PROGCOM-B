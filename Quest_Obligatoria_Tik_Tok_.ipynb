{
  "nbformat": 4,
  "nbformat_minor": 0,
  "metadata": {
    "colab": {
      "provenance": [],
      "authorship_tag": "ABX9TyMZFfItOKd6keFa7abetzez",
      "include_colab_link": true
    },
    "kernelspec": {
      "name": "python3",
      "display_name": "Python 3"
    },
    "language_info": {
      "name": "python"
    }
  },
  "cells": [
    {
      "cell_type": "markdown",
      "metadata": {
        "id": "view-in-github",
        "colab_type": "text"
      },
      "source": [
        "<a href=\"https://colab.research.google.com/github/Aldana-777/PROGCOM-B/blob/main/Quest_Obligatoria_Tik_Tok_.ipynb\" target=\"_parent\"><img src=\"https://colab.research.google.com/assets/colab-badge.svg\" alt=\"Open In Colab\"/></a>"
      ]
    },
    {
      "cell_type": "markdown",
      "source": [
        "##Link Video del quest obligatorio"
      ],
      "metadata": {
        "id": "tUgYY0Que99G"
      }
    },
    {
      "cell_type": "markdown",
      "source": [
        "https://youtu.be/7DYGraudWnQ?si=946v9bHyBcHe_MXt"
      ],
      "metadata": {
        "id": "TAkP7WR_fFuQ"
      }
    }
  ]
}