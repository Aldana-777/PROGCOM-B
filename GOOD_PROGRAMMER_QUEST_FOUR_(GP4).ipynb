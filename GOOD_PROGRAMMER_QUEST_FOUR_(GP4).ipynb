{
  "nbformat": 4,
  "nbformat_minor": 0,
  "metadata": {
    "colab": {
      "provenance": [],
      "authorship_tag": "ABX9TyOTbJfdQmJ+yZGc9uBVhfG0",
      "include_colab_link": true
    },
    "kernelspec": {
      "name": "python3",
      "display_name": "Python 3"
    },
    "language_info": {
      "name": "python"
    }
  },
  "cells": [
    {
      "cell_type": "markdown",
      "metadata": {
        "id": "view-in-github",
        "colab_type": "text"
      },
      "source": [
        "<a href=\"https://colab.research.google.com/github/Aldana-777/PROGCOM-B/blob/main/GOOD_PROGRAMMER_QUEST_FOUR_(GP4).ipynb\" target=\"_parent\"><img src=\"https://colab.research.google.com/assets/colab-badge.svg\" alt=\"Open In Colab\"/></a>"
      ]
    },
    {
      "cell_type": "markdown",
      "source": [
        "El sigiente, es el código de la flor con sus mejoras, elaborado en Visual Studio Code:"
      ],
      "metadata": {
        "id": "dzSzwPRG4yHM"
      }
    },
    {
      "cell_type": "code",
      "execution_count": null,
      "metadata": {
        "id": "Jbld0Wy018m4"
      },
      "outputs": [],
      "source": [
        "from turtle import *\n",
        "import colorsys\n",
        "import random\n",
        "\n",
        "speed(0)\n",
        "bgcolor(\"black\")\n",
        "h = 0\n",
        "for i in range(16):\n",
        "    for j in range(18):\n",
        "        c = colorsys.hsv_to_rgb(h, 1, 1)\n",
        "        color(c)\n",
        "        h += 0.005\n",
        "        rt(90)\n",
        "        circle(150 - j * 6, 90)\n",
        "        lt(90)\n",
        "        circle(150 - j * 6, 90)\n",
        "        rt(180)\n",
        "    circle(40, 24)\n",
        "\n",
        "y = 500\n",
        "for x in range(20):\n",
        "    stick = Turtle()\n",
        "    stick.speed(0)\n",
        "    stick.color(\"#73FF00\")\n",
        "    screen = stick.getscreen()\n",
        "    stick.left(15)\n",
        "    stick.forward(x - 5)\n",
        "    stick.right(90)\n",
        "    stick.forward(y - 25)\n",
        "    stick.right(90)\n",
        "    stick.forward(x - 5)\n",
        "    stick.right(90)\n",
        "    stick.forward(y - 25)\n",
        "    stick.right(90)\n",
        "stick.goto(0, 0)\n",
        "\n",
        "stick.color(\"black\")\n",
        "\n",
        "stick.goto(0, 42)\n",
        "for z in range(50):\n",
        "    stick.color(\"#E66553\")\n",
        "    stick.speed(0)\n",
        "    stick.forward(z)\n",
        "    stick.left(59)\n",
        "\n",
        "# ---- Césped ----\n",
        "grass = Turtle()\n",
        "grass.hideturtle()\n",
        "grass.speed(0)\n",
        "grass.color(\"green\")\n",
        "grass.pensize(2)\n",
        "\n",
        "for i in range(200):\n",
        "    x = random.randint(-400, 400)\n",
        "    y = random.randint(-300, -250)\n",
        "    grass.penup()\n",
        "    grass.goto(x, y)\n",
        "    grass.pendown()\n",
        "    grass.setheading(random.randint(80, 100))\n",
        "    grass.forward(random.randint(20, 50))\n",
        "\n",
        "# ---- Nubes ----\n",
        "def draw_cloud(x, y, size=60):\n",
        "    cloud = Turtle()\n",
        "    cloud.hideturtle()\n",
        "    cloud.speed(0)\n",
        "    cloud.color(\"white\")\n",
        "    cloud.penup()\n",
        "    cloud.goto(x, y)\n",
        "    cloud.pendown()\n",
        "    cloud.begin_fill()\n",
        "    for _ in range(6):\n",
        "        cloud.circle(size, 180)\n",
        "        cloud.right(120)\n",
        "    cloud.end_fill()\n",
        "\n",
        "draw_cloud(-200, 260, 40)\n",
        "draw_cloud(0, 280, 50)\n",
        "draw_cloud(200, 240, 45)\n",
        "\n",
        "# MEJORA DEL SOL (HECHA POR JUAN DAVID ALDANA)\n",
        "def draw_sun(x, y, radius=60):\n",
        "    sun = Turtle()\n",
        "    sun.hideturtle()\n",
        "    sun.speed(0)\n",
        "    sun.penup()\n",
        "    sun.goto(x, y - radius)  # mover para que el círculo quede centrado\n",
        "    sun.pendown()\n",
        "    sun.color(\"yellow\")\n",
        "    sun.begin_fill()\n",
        "    sun.circle(radius)\n",
        "    sun.end_fill()\n",
        "\n",
        "    # Para los rayos:\n",
        "    sun.penup()\n",
        "    sun.goto(x, y)\n",
        "    for i in range(36):\n",
        "        sun.forward(radius + 20)\n",
        "        sun.pendown()\n",
        "        sun.forward(20)\n",
        "        sun.penup()\n",
        "        sun.goto(x, y)\n",
        "        sun.right(10)\n",
        "\n",
        "# Lugar de posición\n",
        "draw_sun(300, 250, 50)\n",
        "\n",
        "done()"
      ]
    }
  ]
}