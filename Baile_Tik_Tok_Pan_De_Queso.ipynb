{
  "nbformat": 4,
  "nbformat_minor": 0,
  "metadata": {
    "colab": {
      "provenance": [],
      "authorship_tag": "ABX9TyNlC8LvP6QDoeN6e3aAw2bj",
      "include_colab_link": true
    },
    "kernelspec": {
      "name": "python3",
      "display_name": "Python 3"
    },
    "language_info": {
      "name": "python"
    }
  },
  "cells": [
    {
      "cell_type": "markdown",
      "metadata": {
        "id": "view-in-github",
        "colab_type": "text"
      },
      "source": [
        "<a href=\"https://colab.research.google.com/github/Aldana-777/PROGCOM-B/blob/main/Baile_Tik_Tok_Pan_De_Queso.ipynb\" target=\"_parent\"><img src=\"https://colab.research.google.com/assets/colab-badge.svg\" alt=\"Open In Colab\"/></a>"
      ]
    },
    {
      "cell_type": "markdown",
      "source": [
        "Link youtube de las actividades realizadas en clase"
      ],
      "metadata": {
        "id": "BipPpuzK70dJ"
      }
    },
    {
      "cell_type": "markdown",
      "source": [
        "\n",
        "https://youtu.be/D_3nVHBHoQk?si=MvPgz2wIrrYWU3Gp"
      ],
      "metadata": {
        "id": "RZ3Ea3nH7vWR"
      }
    }
  ]
}